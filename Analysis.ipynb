{
 "cells": [
  {
   "cell_type": "code",
   "execution_count": 1,
   "id": "65429701",
   "metadata": {},
   "outputs": [],
   "source": [
    "import json\n",
    "import matplotlib.pyplot as plt\n",
    "import seaborn as sns\n",
    "import numpy as np\n",
    "from collections import defaultdict\n",
    "import pandas as pd\n",
    "from scipy import stats\n",
    "import statsmodels"
   ]
  },
  {
   "cell_type": "code",
   "execution_count": 2,
   "id": "0b798897",
   "metadata": {},
   "outputs": [],
   "source": [
    "plt.style.use('seaborn-v0_8-paper')\n",
    "pt = 1./72.27\n",
    "fig_width = 239 * pt\n",
    "aspect_ratio = (1 + 8 ** 0.5) / 2\n",
    "plt.rcParams[\"figure.figsize\"] = (fig_width, fig_width/aspect_ratio)\n",
    "plt.rcParams[\"savefig.bbox\"] = \"tight\"\n",
    "sns.set_theme(style='whitegrid', context='paper', rc={'axes.facecolor': 'white', 'figure.figsize': (fig_width, fig_width/aspect_ratio)})\n",
    "# sns.set_theme(style='whitegrid', context='paper', rc={'savefig.transparent': True, 'figure.figsize': (fig_width, fig_width/aspect_ratio), 'axes.labelsize': 14})\n",
    "\n",
    "colors = [\"#00a1de\", \"#009b3a\", \"#c60c30\", \"#f9461c\", \"#532A92\"]"
   ]
  },
  {
   "cell_type": "code",
   "execution_count": 3,
   "id": "491e53e3",
   "metadata": {},
   "outputs": [],
   "source": [
    "machine_list = {\n",
    "    \"machine1\": { 'id': 'machine1', 'text': 'Machine 1', 'max_power': 20},\n",
    "    \"machine2\": { 'id': 'machine2', 'text': 'Machine 2', 'max_power': 40},\n",
    "    \"machine3\": { 'id': 'machine3', 'text': 'Machine 3', 'max_power': 40},\n",
    "    \"machine4\": { 'id': 'machine4', 'text': 'Machine 4', 'max_power': 30}\n",
    "}\n",
    "\n",
    "with open(\"static/sample_jobs.json\") as fp:\n",
    "    jobs = json.load(fp)\n",
    "    \n",
    "def energy_cost(machine, job):\n",
    "    return ((machine_list[machine]['max_power'] * job[\"resources\"][machine][\"runtime\"]) + job[\"resources\"][machine][\"energy\"]) / 2"
   ]
  },
  {
   "cell_type": "code",
   "execution_count": 4,
   "id": "079271ac",
   "metadata": {},
   "outputs": [],
   "source": [
    "df = pd.read_csv(\"game_responses.csv\", index_col=0)"
   ]
  },
  {
   "cell_type": "code",
   "execution_count": 5,
   "id": "c5f1e909",
   "metadata": {},
   "outputs": [
    {
     "data": {
      "text/html": [
       "<div>\n",
       "<style scoped>\n",
       "    .dataframe tbody tr th:only-of-type {\n",
       "        vertical-align: middle;\n",
       "    }\n",
       "\n",
       "    .dataframe tbody tr th {\n",
       "        vertical-align: top;\n",
       "    }\n",
       "\n",
       "    .dataframe thead th {\n",
       "        text-align: right;\n",
       "    }\n",
       "</style>\n",
       "<table border=\"1\" class=\"dataframe\">\n",
       "  <thead>\n",
       "    <tr style=\"text-align: right;\">\n",
       "      <th></th>\n",
       "      <th>_id</th>\n",
       "      <th>jobs_completed</th>\n",
       "      <th>timeLeft</th>\n",
       "      <th>total_allocation</th>\n",
       "      <th>allocation</th>\n",
       "      <th>total_energy</th>\n",
       "      <th>total_runtime</th>\n",
       "      <th>scheduling_decisions</th>\n",
       "      <th>job_idx</th>\n",
       "      <th>userID</th>\n",
       "      <th>plays</th>\n",
       "      <th>visits</th>\n",
       "      <th>group</th>\n",
       "      <th>startTime</th>\n",
       "      <th>gameTime</th>\n",
       "      <th>version</th>\n",
       "    </tr>\n",
       "  </thead>\n",
       "  <tbody>\n",
       "    <tr>\n",
       "      <th>0</th>\n",
       "      <td>66be38d1217dee6c11eced47</td>\n",
       "      <td>11</td>\n",
       "      <td>4</td>\n",
       "      <td>200</td>\n",
       "      <td>77.000000</td>\n",
       "      <td>2123.385714</td>\n",
       "      <td>123</td>\n",
       "      <td>{'7': {'machine1': ['10', 1], 'machine2': ['13...</td>\n",
       "      <td>16</td>\n",
       "      <td>1on9b7a</td>\n",
       "      <td>2</td>\n",
       "      <td>2</td>\n",
       "      <td>2</td>\n",
       "      <td>1723742065812</td>\n",
       "      <td>329560</td>\n",
       "      <td>1</td>\n",
       "    </tr>\n",
       "    <tr>\n",
       "      <th>1</th>\n",
       "      <td>66be39933bebf2876408dc66</td>\n",
       "      <td>9</td>\n",
       "      <td>22</td>\n",
       "      <td>3000</td>\n",
       "      <td>0.157143</td>\n",
       "      <td>2159.685714</td>\n",
       "      <td>118</td>\n",
       "      <td>{'30': {'machine1': ['9', 0.8888888888888888],...</td>\n",
       "      <td>14</td>\n",
       "      <td>1on9b7a</td>\n",
       "      <td>3</td>\n",
       "      <td>3</td>\n",
       "      <td>2</td>\n",
       "      <td>1723742419420</td>\n",
       "      <td>190058</td>\n",
       "      <td>3</td>\n",
       "    </tr>\n",
       "    <tr>\n",
       "      <th>2</th>\n",
       "      <td>66be3a39217dee6c11eced48</td>\n",
       "      <td>16</td>\n",
       "      <td>0</td>\n",
       "      <td>200</td>\n",
       "      <td>29.000000</td>\n",
       "      <td>3078.900000</td>\n",
       "      <td>171</td>\n",
       "      <td>{'1': {'machine1': ['19', 1]}, '2': {'machine2...</td>\n",
       "      <td>20</td>\n",
       "      <td>1on9b7a</td>\n",
       "      <td>4</td>\n",
       "      <td>4</td>\n",
       "      <td>2</td>\n",
       "      <td>1723742626191</td>\n",
       "      <td>151298</td>\n",
       "      <td>1</td>\n",
       "    </tr>\n",
       "    <tr>\n",
       "      <th>3</th>\n",
       "      <td>66bf707b09f21551ff542cfd</td>\n",
       "      <td>12</td>\n",
       "      <td>12</td>\n",
       "      <td>200</td>\n",
       "      <td>8.000000</td>\n",
       "      <td>3518.994242</td>\n",
       "      <td>192</td>\n",
       "      <td>{'13': {'machine1': ['8', 0.05], 'machine2': [...</td>\n",
       "      <td>17</td>\n",
       "      <td>19abi9c</td>\n",
       "      <td>2</td>\n",
       "      <td>2</td>\n",
       "      <td>0</td>\n",
       "      <td>1723822133887</td>\n",
       "      <td>63355</td>\n",
       "      <td>1</td>\n",
       "    </tr>\n",
       "    <tr>\n",
       "      <th>4</th>\n",
       "      <td>66bf70a2ddc4307faabac4a7</td>\n",
       "      <td>9</td>\n",
       "      <td>11</td>\n",
       "      <td>200</td>\n",
       "      <td>4.000000</td>\n",
       "      <td>3954.324242</td>\n",
       "      <td>196</td>\n",
       "      <td>{'20': {'machine1': ['7', 1], 'machine2': ['8'...</td>\n",
       "      <td>14</td>\n",
       "      <td>19abi9c</td>\n",
       "      <td>3</td>\n",
       "      <td>3</td>\n",
       "      <td>0</td>\n",
       "      <td>1723822209789</td>\n",
       "      <td>24594</td>\n",
       "      <td>2</td>\n",
       "    </tr>\n",
       "    <tr>\n",
       "      <th>...</th>\n",
       "      <td>...</td>\n",
       "      <td>...</td>\n",
       "      <td>...</td>\n",
       "      <td>...</td>\n",
       "      <td>...</td>\n",
       "      <td>...</td>\n",
       "      <td>...</td>\n",
       "      <td>...</td>\n",
       "      <td>...</td>\n",
       "      <td>...</td>\n",
       "      <td>...</td>\n",
       "      <td>...</td>\n",
       "      <td>...</td>\n",
       "      <td>...</td>\n",
       "      <td>...</td>\n",
       "      <td>...</td>\n",
       "    </tr>\n",
       "    <tr>\n",
       "      <th>202</th>\n",
       "      <td>66dad6b23bebf2876408dcaf</td>\n",
       "      <td>11</td>\n",
       "      <td>7</td>\n",
       "      <td>200</td>\n",
       "      <td>2.000000</td>\n",
       "      <td>3515.735584</td>\n",
       "      <td>198</td>\n",
       "      <td>{'10': {'machine1': ['10', 0.3333333333333333]...</td>\n",
       "      <td>16</td>\n",
       "      <td>1l3my9v</td>\n",
       "      <td>2</td>\n",
       "      <td>2</td>\n",
       "      <td>0</td>\n",
       "      <td>1725616719133</td>\n",
       "      <td>1086099</td>\n",
       "      <td>1</td>\n",
       "    </tr>\n",
       "    <tr>\n",
       "      <th>203</th>\n",
       "      <td>66dad9003bebf2876408dcb0</td>\n",
       "      <td>19</td>\n",
       "      <td>4</td>\n",
       "      <td>200</td>\n",
       "      <td>9.000000</td>\n",
       "      <td>3533.000000</td>\n",
       "      <td>191</td>\n",
       "      <td>{'4': {}, '10': {'machine2': ['15', 1]}, '11':...</td>\n",
       "      <td>20</td>\n",
       "      <td>1l3my9v</td>\n",
       "      <td>3</td>\n",
       "      <td>3</td>\n",
       "      <td>0</td>\n",
       "      <td>1725617848162</td>\n",
       "      <td>581944</td>\n",
       "      <td>2</td>\n",
       "    </tr>\n",
       "    <tr>\n",
       "      <th>204</th>\n",
       "      <td>66df03dd217dee6c11eced9b</td>\n",
       "      <td>16</td>\n",
       "      <td>2</td>\n",
       "      <td>3000</td>\n",
       "      <td>16.350000</td>\n",
       "      <td>2127.300000</td>\n",
       "      <td>125</td>\n",
       "      <td>{'3': {'machine1': ['19', 1]}, '7': {'machine1...</td>\n",
       "      <td>20</td>\n",
       "      <td>19vqkwl</td>\n",
       "      <td>2</td>\n",
       "      <td>2</td>\n",
       "      <td>5</td>\n",
       "      <td>1725891059130</td>\n",
       "      <td>487805</td>\n",
       "      <td>3</td>\n",
       "    </tr>\n",
       "    <tr>\n",
       "      <th>205</th>\n",
       "      <td>66df0540217dee6c11eced9c</td>\n",
       "      <td>19</td>\n",
       "      <td>0</td>\n",
       "      <td>200</td>\n",
       "      <td>14.000000</td>\n",
       "      <td>3511.400000</td>\n",
       "      <td>186</td>\n",
       "      <td>{'1': {'machine3': ['9', 1]}, '6': {'machine3'...</td>\n",
       "      <td>20</td>\n",
       "      <td>19vqkwl</td>\n",
       "      <td>3</td>\n",
       "      <td>3</td>\n",
       "      <td>5</td>\n",
       "      <td>1725891560985</td>\n",
       "      <td>343574</td>\n",
       "      <td>2</td>\n",
       "    </tr>\n",
       "    <tr>\n",
       "      <th>206</th>\n",
       "      <td>66df07d2ddc4307faabac4f9</td>\n",
       "      <td>17</td>\n",
       "      <td>2</td>\n",
       "      <td>3000</td>\n",
       "      <td>10.950000</td>\n",
       "      <td>2038.100000</td>\n",
       "      <td>127</td>\n",
       "      <td>{'3': {'machine2': ['19', 1]}, '4': {'machine1...</td>\n",
       "      <td>20</td>\n",
       "      <td>19vqkwl</td>\n",
       "      <td>4</td>\n",
       "      <td>4</td>\n",
       "      <td>5</td>\n",
       "      <td>1725891914340</td>\n",
       "      <td>645948</td>\n",
       "      <td>3</td>\n",
       "    </tr>\n",
       "  </tbody>\n",
       "</table>\n",
       "<p>207 rows × 16 columns</p>\n",
       "</div>"
      ],
      "text/plain": [
       "                          _id  jobs_completed  timeLeft  total_allocation  \\\n",
       "0    66be38d1217dee6c11eced47              11         4               200   \n",
       "1    66be39933bebf2876408dc66               9        22              3000   \n",
       "2    66be3a39217dee6c11eced48              16         0               200   \n",
       "3    66bf707b09f21551ff542cfd              12        12               200   \n",
       "4    66bf70a2ddc4307faabac4a7               9        11               200   \n",
       "..                        ...             ...       ...               ...   \n",
       "202  66dad6b23bebf2876408dcaf              11         7               200   \n",
       "203  66dad9003bebf2876408dcb0              19         4               200   \n",
       "204  66df03dd217dee6c11eced9b              16         2              3000   \n",
       "205  66df0540217dee6c11eced9c              19         0               200   \n",
       "206  66df07d2ddc4307faabac4f9              17         2              3000   \n",
       "\n",
       "     allocation  total_energy  total_runtime  \\\n",
       "0     77.000000   2123.385714            123   \n",
       "1      0.157143   2159.685714            118   \n",
       "2     29.000000   3078.900000            171   \n",
       "3      8.000000   3518.994242            192   \n",
       "4      4.000000   3954.324242            196   \n",
       "..          ...           ...            ...   \n",
       "202    2.000000   3515.735584            198   \n",
       "203    9.000000   3533.000000            191   \n",
       "204   16.350000   2127.300000            125   \n",
       "205   14.000000   3511.400000            186   \n",
       "206   10.950000   2038.100000            127   \n",
       "\n",
       "                                  scheduling_decisions  job_idx   userID  \\\n",
       "0    {'7': {'machine1': ['10', 1], 'machine2': ['13...       16  1on9b7a   \n",
       "1    {'30': {'machine1': ['9', 0.8888888888888888],...       14  1on9b7a   \n",
       "2    {'1': {'machine1': ['19', 1]}, '2': {'machine2...       20  1on9b7a   \n",
       "3    {'13': {'machine1': ['8', 0.05], 'machine2': [...       17  19abi9c   \n",
       "4    {'20': {'machine1': ['7', 1], 'machine2': ['8'...       14  19abi9c   \n",
       "..                                                 ...      ...      ...   \n",
       "202  {'10': {'machine1': ['10', 0.3333333333333333]...       16  1l3my9v   \n",
       "203  {'4': {}, '10': {'machine2': ['15', 1]}, '11':...       20  1l3my9v   \n",
       "204  {'3': {'machine1': ['19', 1]}, '7': {'machine1...       20  19vqkwl   \n",
       "205  {'1': {'machine3': ['9', 1]}, '6': {'machine3'...       20  19vqkwl   \n",
       "206  {'3': {'machine2': ['19', 1]}, '4': {'machine1...       20  19vqkwl   \n",
       "\n",
       "     plays  visits  group      startTime  gameTime  version  \n",
       "0        2       2      2  1723742065812    329560        1  \n",
       "1        3       3      2  1723742419420    190058        3  \n",
       "2        4       4      2  1723742626191    151298        1  \n",
       "3        2       2      0  1723822133887     63355        1  \n",
       "4        3       3      0  1723822209789     24594        2  \n",
       "..     ...     ...    ...            ...       ...      ...  \n",
       "202      2       2      0  1725616719133   1086099        1  \n",
       "203      3       3      0  1725617848162    581944        2  \n",
       "204      2       2      5  1725891059130    487805        3  \n",
       "205      3       3      5  1725891560985    343574        2  \n",
       "206      4       4      5  1725891914340    645948        3  \n",
       "\n",
       "[207 rows x 16 columns]"
      ]
     },
     "execution_count": 5,
     "metadata": {},
     "output_type": "execute_result"
    }
   ],
   "source": [
    "df"
   ]
  },
  {
   "cell_type": "code",
   "execution_count": 6,
   "id": "3b24556c",
   "metadata": {},
   "outputs": [
    {
     "data": {
      "text/plain": [
       "90"
      ]
     },
     "execution_count": 6,
     "metadata": {},
     "output_type": "execute_result"
    }
   ],
   "source": [
    "df.userID.nunique()"
   ]
  },
  {
   "cell_type": "code",
   "execution_count": 7,
   "id": "c5a2f71a",
   "metadata": {},
   "outputs": [
    {
     "data": {
      "text/plain": [
       "Text(0.5, 0, 'Real Time Taken (Minutes)')"
      ]
     },
     "execution_count": 7,
     "metadata": {},
     "output_type": "execute_result"
    },
    {
     "data": {
      "image/png": "[encoded data removed]",
      "text/plain": [
       "<Figure size 330.704x172.762 with 1 Axes>"
      ]
     },
     "metadata": {},
     "output_type": "display_data"
    }
   ],
   "source": [
    "df[\"gameTimeMin\"] = df[\"gameTime\"] /(1e3 * 60)\n",
    "fig, ax = plt.subplots(1,1)\n",
    "sns.scatterplot(data=df, x=\"gameTimeMin\", y=\"timeLeft\", ax=ax)\n",
    "ax.set_ylabel(\"Simulated Time Remaining\")\n",
    "ax.set_xlabel(\"Real Time Taken (Minutes)\")"
   ]
  },
  {
   "cell_type": "code",
   "execution_count": 8,
   "id": "b4519a69",
   "metadata": {},
   "outputs": [
    {
     "name": "stderr",
     "output_type": "stream",
     "text": [
      "/tmp/ipykernel_3101/2225852331.py:2: SettingWithCopyWarning: \n",
      "A value is trying to be set on a copy of a slice from a DataFrame.\n",
      "Try using .loc[row_indexer,col_indexer] = value instead\n",
      "\n",
      "See the caveats in the documentation: https://pandas.pydata.org/pandas-docs/stable/user_guide/indexing.html#returning-a-view-versus-a-copy\n",
      "  df[\"energy_per_job\"] = df[\"total_energy\"] / df[\"jobs_completed\"]\n",
      "/tmp/ipykernel_3101/2225852331.py:3: SettingWithCopyWarning: \n",
      "A value is trying to be set on a copy of a slice from a DataFrame.\n",
      "Try using .loc[row_indexer,col_indexer] = value instead\n",
      "\n",
      "See the caveats in the documentation: https://pandas.pydata.org/pandas-docs/stable/user_guide/indexing.html#returning-a-view-versus-a-copy\n",
      "  df[\"energy_per_time\"] = df[\"total_energy\"] / df[\"total_runtime\"]\n"
     ]
    },
    {
     "data": {
      "text/plain": [
       "(192, 19)"
      ]
     },
     "execution_count": 8,
     "metadata": {},
     "output_type": "execute_result"
    }
   ],
   "source": [
    "df = df[df[\"gameTimeMin\"] > 1]\n",
    "df[\"energy_per_job\"] = df[\"total_energy\"] / df[\"jobs_completed\"]\n",
    "df[\"energy_per_time\"] = df[\"total_energy\"] / df[\"total_runtime\"]\n",
    "df.shape"
   ]
  },
  {
   "cell_type": "code",
   "execution_count": 9,
   "id": "7737eeb9",
   "metadata": {},
   "outputs": [
    {
     "name": "stderr",
     "output_type": "stream",
     "text": [
      "/tmp/ipykernel_3101/1079387758.py:2: FutureWarning: \n",
      "\n",
      "Passing `palette` without assigning `hue` is deprecated and will be removed in v0.14.0. Assign the `x` variable to `hue` and set `legend=False` for the same effect.\n",
      "\n",
      "  sns.violinplot(data=df, x=\"version\", y=\"total_energy\", order=[\"1\",\"2\",\"3\"], ax=ax, palette=colors)\n",
      "/tmp/ipykernel_3101/1079387758.py:2: UserWarning: The palette list has more values (5) than needed (3), which may not be intended.\n",
      "  sns.violinplot(data=df, x=\"version\", y=\"total_energy\", order=[\"1\",\"2\",\"3\"], ax=ax, palette=colors)\n"
     ]
    },
    {
     "data": {
      "image/png": "[encoded data removed]",
      "text/plain": [
       "<Figure size 330.704x172.762 with 1 Axes>"
      ]
     },
     "metadata": {},
     "output_type": "display_data"
    }
   ],
   "source": [
    "fig,ax = plt.subplots(1,1)\n",
    "sns.violinplot(data=df, x=\"version\", y=\"total_energy\", order=[\"1\",\"2\",\"3\"], ax=ax, palette=colors)\n",
    "ax.set_xlabel(\"Version\")\n",
    "ax.set_ylabel(\"Total Energy Used\")\n",
    "plt.savefig(\"figures/game_total_energy.pdf\")\n",
    "# plt.savefig(\"figures/game_total_energy_talk.png\")"
   ]
  },
  {
   "cell_type": "code",
   "execution_count": 10,
   "id": "6c3bca36",
   "metadata": {},
   "outputs": [
    {
     "data": {
      "text/plain": [
       "count      63.000000\n",
       "mean     3262.544559\n",
       "std       497.134247\n",
       "min       809.900000\n",
       "25%      3206.602500\n",
       "50%      3393.800535\n",
       "75%      3497.816815\n",
       "max      3736.712054\n",
       "Name: total_energy, dtype: float64"
      ]
     },
     "metadata": {},
     "output_type": "display_data"
    },
    {
     "data": {
      "text/plain": [
       "count      62.000000\n",
       "mean     3142.400934\n",
       "std       546.484256\n",
       "min      1268.400000\n",
       "25%      2960.500000\n",
       "50%      3293.653351\n",
       "75%      3477.772917\n",
       "max      3959.892091\n",
       "Name: total_energy, dtype: float64"
      ]
     },
     "metadata": {},
     "output_type": "display_data"
    },
    {
     "data": {
      "text/plain": [
       "count      67.000000\n",
       "mean     1928.516872\n",
       "std       277.419640\n",
       "min       370.100000\n",
       "25%      1851.169559\n",
       "50%      1981.483333\n",
       "75%      2093.775566\n",
       "max      2215.990909\n",
       "Name: total_energy, dtype: float64"
      ]
     },
     "metadata": {},
     "output_type": "display_data"
    },
    {
     "data": {
      "text/plain": [
       "TtestResult(statistic=np.float64(1.2861206282093651), pvalue=np.float64(0.2008167296086517), df=np.float64(123.0))"
      ]
     },
     "metadata": {},
     "output_type": "display_data"
    },
    {
     "data": {
      "text/plain": [
       "TtestResult(statistic=np.float64(19.039969314094815), pvalue=np.float64(3.727013129333428e-39), df=np.float64(128.0))"
      ]
     },
     "metadata": {},
     "output_type": "display_data"
    },
    {
     "data": {
      "text/plain": [
       "TtestResult(statistic=np.float64(16.083077989336413), pvalue=np.float64(2.0018894585596637e-32), df=np.float64(127.0))"
      ]
     },
     "metadata": {},
     "output_type": "display_data"
    }
   ],
   "source": [
    "display(df[df[\"version\"] == 1][\"total_energy\"].describe())\n",
    "display(df[df[\"version\"] == 2][\"total_energy\"].describe())\n",
    "display(df[df[\"version\"] == 3][\"total_energy\"].describe())\n",
    "display(stats.ttest_ind(df[df[\"version\"] == 1][\"total_energy\"], df[df[\"version\"] == 2][\"total_energy\"]))\n",
    "display(stats.ttest_ind(df[df[\"version\"] == 1][\"total_energy\"], df[df[\"version\"] == 3][\"total_energy\"]))\n",
    "display(stats.ttest_ind(df[df[\"version\"] == 2][\"total_energy\"], df[df[\"version\"] == 3][\"total_energy\"]))"
   ]
  },
  {
   "cell_type": "code",
   "execution_count": 11,
   "id": "3b5255ec",
   "metadata": {
    "scrolled": true
   },
   "outputs": [
    {
     "name": "stderr",
     "output_type": "stream",
     "text": [
      "/tmp/ipykernel_3101/1967740162.py:2: FutureWarning: \n",
      "\n",
      "Passing `palette` without assigning `hue` is deprecated and will be removed in v0.14.0. Assign the `x` variable to `hue` and set `legend=False` for the same effect.\n",
      "\n",
      "  sns.violinplot(data=df, x=\"version\", y=\"jobs_completed\", order=[1,2,3], ax=ax, palette=colors)\n",
      "/tmp/ipykernel_3101/1967740162.py:2: UserWarning: The palette list has more values (5) than needed (3), which may not be intended.\n",
      "  sns.violinplot(data=df, x=\"version\", y=\"jobs_completed\", order=[1,2,3], ax=ax, palette=colors)\n"
     ]
    },
    {
     "data": {
      "image/png": "[encoded data removed]",
      "text/plain": [
       "<Figure size 330.704x172.762 with 1 Axes>"
      ]
     },
     "metadata": {},
     "output_type": "display_data"
    }
   ],
   "source": [
    "fig,ax = plt.subplots(1,1)\n",
    "sns.violinplot(data=df, x=\"version\", y=\"jobs_completed\", order=[1,2,3], ax=ax, palette=colors)\n",
    "ax.set_xlabel(\"Version\")\n",
    "ax.set_ylabel(\"Jobs Completed\")\n",
    "plt.savefig(\"figures/game_jobs_completed.pdf\")\n",
    "# plt.savefig(\"figures/game_jobs_completed_talk.png\")"
   ]
  },
  {
   "cell_type": "code",
   "execution_count": 12,
   "id": "f658a76e",
   "metadata": {},
   "outputs": [
    {
     "data": {
      "text/plain": [
       "count    63.000000\n",
       "mean     14.476190\n",
       "std       3.995389\n",
       "min       4.000000\n",
       "25%      12.000000\n",
       "50%      15.000000\n",
       "75%      18.000000\n",
       "max      19.000000\n",
       "Name: jobs_completed, dtype: float64"
      ]
     },
     "metadata": {},
     "output_type": "display_data"
    },
    {
     "data": {
      "text/plain": [
       "count    62.000000\n",
       "mean     14.887097\n",
       "std       4.020867\n",
       "min       6.000000\n",
       "25%      12.000000\n",
       "50%      16.000000\n",
       "75%      19.000000\n",
       "max      20.000000\n",
       "Name: jobs_completed, dtype: float64"
      ]
     },
     "metadata": {},
     "output_type": "display_data"
    },
    {
     "data": {
      "text/plain": [
       "count    67.000000\n",
       "mean      9.686567\n",
       "std       2.919158\n",
       "min       5.000000\n",
       "25%       7.000000\n",
       "50%       9.000000\n",
       "75%      11.500000\n",
       "max      17.000000\n",
       "Name: jobs_completed, dtype: float64"
      ]
     },
     "metadata": {},
     "output_type": "display_data"
    },
    {
     "data": {
      "text/plain": [
       "TtestResult(statistic=np.float64(-0.5730880496252491), pvalue=np.float64(0.5676313092764956), df=np.float64(123.0))"
      ]
     },
     "metadata": {},
     "output_type": "display_data"
    },
    {
     "data": {
      "text/plain": [
       "TtestResult(statistic=np.float64(7.8375078686067505), pvalue=np.float64(1.5507776426703238e-12), df=np.float64(128.0))"
      ]
     },
     "metadata": {},
     "output_type": "display_data"
    },
    {
     "data": {
      "text/plain": [
       "TtestResult(statistic=np.float64(8.451121179172661), pvalue=np.float64(5.753422091040446e-14), df=np.float64(127.0))"
      ]
     },
     "metadata": {},
     "output_type": "display_data"
    }
   ],
   "source": [
    "display(df[df[\"version\"] == 1][\"jobs_completed\"].describe())\n",
    "display(df[df[\"version\"] == 2][\"jobs_completed\"].describe())\n",
    "display(df[df[\"version\"] == 3][\"jobs_completed\"].describe())\n",
    "display(stats.ttest_ind(df[df[\"version\"] == 1][\"jobs_completed\"], df[df[\"version\"] == 2][\"jobs_completed\"]))\n",
    "display(stats.ttest_ind(df[df[\"version\"] == 1][\"jobs_completed\"], df[df[\"version\"] == 3][\"jobs_completed\"]))\n",
    "display(stats.ttest_ind(df[df[\"version\"] == 2][\"jobs_completed\"], df[df[\"version\"] == 3][\"jobs_completed\"]))"
   ]
  },
  {
   "cell_type": "code",
   "execution_count": 13,
   "id": "bebe4533",
   "metadata": {},
   "outputs": [
    {
     "data": {
      "text/plain": [
       "<seaborn.axisgrid.FacetGrid at 0x790e80eb56a0>"
      ]
     },
     "execution_count": 13,
     "metadata": {},
     "output_type": "execute_result"
    },
    {
     "data": {
      "image/png": "[encoded data removed]",
      "text/plain": [
       "<Figure size 615.278x500 with 1 Axes>"
      ]
     },
     "metadata": {},
     "output_type": "display_data"
    }
   ],
   "source": [
    "sns.catplot(data=df, x=\"version\", y=\"timeLeft\", order=[\"1\",\"2\",\"3\"], hue=\"jobs_completed\")"
   ]
  },
  {
   "cell_type": "code",
   "execution_count": 14,
   "id": "ef7fe3f5",
   "metadata": {},
   "outputs": [
    {
     "data": {
      "image/png": "[encoded data removed]",
      "text/plain": [
       "<Figure size 330.704x172.762 with 1 Axes>"
      ]
     },
     "metadata": {},
     "output_type": "display_data"
    }
   ],
   "source": [
    "fig,ax = plt.subplots(1,1)\n",
    "# sns.scatterplot(data=df, x=\"jobs_completed\", y=\"energy_per_job\", hue=\"version\", ax=ax)\n",
    "sns.regplot(data=df[df[\"version\"] == 1], x=\"jobs_completed\", y=\"total_energy\", color=colors[0], label=\"Version 1\", ax=ax)\n",
    "sns.regplot(data=df[df[\"version\"] == 2], x=\"jobs_completed\", y=\"total_energy\", color=colors[1], label=\"Version 2\", ax=ax)\n",
    "sns.regplot(data=df[df[\"version\"] == 3], x=\"jobs_completed\", y=\"total_energy\", color=colors[2], label=\"Version 3\",  ax=ax)\n",
    "plt.legend(loc=\"lower right\")\n",
    "ax.set_xlabel(\"Jobs Completed\")\n",
    "ax.set_ylabel(\"Total Energy Used\")\n",
    "plt.savefig(\"figures/energy_used_by_jobs_completed.pdf\")\n",
    "# plt.savefig(\"figures/energy_used_by_jobs_completed_talk.png\")"
   ]
  },
  {
   "cell_type": "code",
   "execution_count": 15,
   "id": "63a1242e",
   "metadata": {
    "scrolled": true
   },
   "outputs": [
    {
     "data": {
      "text/html": [
       "<div>\n",
       "<style scoped>\n",
       "    .dataframe tbody tr th:only-of-type {\n",
       "        vertical-align: middle;\n",
       "    }\n",
       "\n",
       "    .dataframe tbody tr th {\n",
       "        vertical-align: top;\n",
       "    }\n",
       "\n",
       "    .dataframe thead th {\n",
       "        text-align: right;\n",
       "    }\n",
       "</style>\n",
       "<table border=\"1\" class=\"dataframe\">\n",
       "  <thead>\n",
       "    <tr style=\"text-align: right;\">\n",
       "      <th></th>\n",
       "      <th>0</th>\n",
       "      <th>1</th>\n",
       "      <th>2</th>\n",
       "      <th>3</th>\n",
       "      <th>4</th>\n",
       "      <th>5</th>\n",
       "      <th>6</th>\n",
       "      <th>7</th>\n",
       "      <th>8</th>\n",
       "      <th>9</th>\n",
       "      <th>...</th>\n",
       "      <th>12</th>\n",
       "      <th>13</th>\n",
       "      <th>14</th>\n",
       "      <th>15</th>\n",
       "      <th>16</th>\n",
       "      <th>17</th>\n",
       "      <th>18</th>\n",
       "      <th>19</th>\n",
       "      <th>version</th>\n",
       "      <th>job_idx</th>\n",
       "    </tr>\n",
       "  </thead>\n",
       "  <tbody>\n",
       "    <tr>\n",
       "      <th>0</th>\n",
       "      <td>123.4</td>\n",
       "      <td>299.8</td>\n",
       "      <td>71.3</td>\n",
       "      <td>147.0</td>\n",
       "      <td>96.7</td>\n",
       "      <td>80.0</td>\n",
       "      <td>NaN</td>\n",
       "      <td>NaN</td>\n",
       "      <td>NaN</td>\n",
       "      <td>399.7</td>\n",
       "      <td>...</td>\n",
       "      <td>355.4</td>\n",
       "      <td>78.8</td>\n",
       "      <td>NaN</td>\n",
       "      <td>NaN</td>\n",
       "      <td>NaN</td>\n",
       "      <td>NaN</td>\n",
       "      <td>NaN</td>\n",
       "      <td>NaN</td>\n",
       "      <td>1.0</td>\n",
       "      <td>16.0</td>\n",
       "    </tr>\n",
       "    <tr>\n",
       "      <th>1</th>\n",
       "      <td>191.6</td>\n",
       "      <td>299.8</td>\n",
       "      <td>71.3</td>\n",
       "      <td>147.0</td>\n",
       "      <td>96.7</td>\n",
       "      <td>455.8</td>\n",
       "      <td>96.0</td>\n",
       "      <td>419.9</td>\n",
       "      <td>NaN</td>\n",
       "      <td>NaN</td>\n",
       "      <td>...</td>\n",
       "      <td>NaN</td>\n",
       "      <td>NaN</td>\n",
       "      <td>NaN</td>\n",
       "      <td>NaN</td>\n",
       "      <td>NaN</td>\n",
       "      <td>NaN</td>\n",
       "      <td>NaN</td>\n",
       "      <td>NaN</td>\n",
       "      <td>3.0</td>\n",
       "      <td>14.0</td>\n",
       "    </tr>\n",
       "    <tr>\n",
       "      <th>2</th>\n",
       "      <td>191.6</td>\n",
       "      <td>425.4</td>\n",
       "      <td>311.7</td>\n",
       "      <td>147.0</td>\n",
       "      <td>15.8</td>\n",
       "      <td>80.0</td>\n",
       "      <td>441.8</td>\n",
       "      <td>256.5</td>\n",
       "      <td>292.5</td>\n",
       "      <td>399.7</td>\n",
       "      <td>...</td>\n",
       "      <td>NaN</td>\n",
       "      <td>17.6</td>\n",
       "      <td>129.1</td>\n",
       "      <td>NaN</td>\n",
       "      <td>NaN</td>\n",
       "      <td>10.5</td>\n",
       "      <td>NaN</td>\n",
       "      <td>8.5</td>\n",
       "      <td>1.0</td>\n",
       "      <td>20.0</td>\n",
       "    </tr>\n",
       "    <tr>\n",
       "      <th>3</th>\n",
       "      <td>43.1</td>\n",
       "      <td>62.2</td>\n",
       "      <td>451.9</td>\n",
       "      <td>646.9</td>\n",
       "      <td>67.6</td>\n",
       "      <td>393.3</td>\n",
       "      <td>96.0</td>\n",
       "      <td>419.9</td>\n",
       "      <td>NaN</td>\n",
       "      <td>399.7</td>\n",
       "      <td>...</td>\n",
       "      <td>410.1</td>\n",
       "      <td>NaN</td>\n",
       "      <td>129.1</td>\n",
       "      <td>NaN</td>\n",
       "      <td>NaN</td>\n",
       "      <td>NaN</td>\n",
       "      <td>NaN</td>\n",
       "      <td>NaN</td>\n",
       "      <td>1.0</td>\n",
       "      <td>17.0</td>\n",
       "    </tr>\n",
       "    <tr>\n",
       "      <th>5</th>\n",
       "      <td>123.4</td>\n",
       "      <td>299.8</td>\n",
       "      <td>71.3</td>\n",
       "      <td>NaN</td>\n",
       "      <td>15.8</td>\n",
       "      <td>NaN</td>\n",
       "      <td>NaN</td>\n",
       "      <td>256.5</td>\n",
       "      <td>NaN</td>\n",
       "      <td>NaN</td>\n",
       "      <td>...</td>\n",
       "      <td>NaN</td>\n",
       "      <td>NaN</td>\n",
       "      <td>NaN</td>\n",
       "      <td>NaN</td>\n",
       "      <td>NaN</td>\n",
       "      <td>NaN</td>\n",
       "      <td>NaN</td>\n",
       "      <td>NaN</td>\n",
       "      <td>3.0</td>\n",
       "      <td>10.0</td>\n",
       "    </tr>\n",
       "    <tr>\n",
       "      <th>...</th>\n",
       "      <td>...</td>\n",
       "      <td>...</td>\n",
       "      <td>...</td>\n",
       "      <td>...</td>\n",
       "      <td>...</td>\n",
       "      <td>...</td>\n",
       "      <td>...</td>\n",
       "      <td>...</td>\n",
       "      <td>...</td>\n",
       "      <td>...</td>\n",
       "      <td>...</td>\n",
       "      <td>...</td>\n",
       "      <td>...</td>\n",
       "      <td>...</td>\n",
       "      <td>...</td>\n",
       "      <td>...</td>\n",
       "      <td>...</td>\n",
       "      <td>...</td>\n",
       "      <td>...</td>\n",
       "      <td>...</td>\n",
       "      <td>...</td>\n",
       "    </tr>\n",
       "    <tr>\n",
       "      <th>202</th>\n",
       "      <td>191.6</td>\n",
       "      <td>425.4</td>\n",
       "      <td>71.3</td>\n",
       "      <td>147.0</td>\n",
       "      <td>15.8</td>\n",
       "      <td>393.3</td>\n",
       "      <td>455.5</td>\n",
       "      <td>419.9</td>\n",
       "      <td>292.5</td>\n",
       "      <td>84.5</td>\n",
       "      <td>...</td>\n",
       "      <td>NaN</td>\n",
       "      <td>NaN</td>\n",
       "      <td>NaN</td>\n",
       "      <td>NaN</td>\n",
       "      <td>NaN</td>\n",
       "      <td>NaN</td>\n",
       "      <td>NaN</td>\n",
       "      <td>NaN</td>\n",
       "      <td>1.0</td>\n",
       "      <td>16.0</td>\n",
       "    </tr>\n",
       "    <tr>\n",
       "      <th>203</th>\n",
       "      <td>43.1</td>\n",
       "      <td>425.4</td>\n",
       "      <td>311.7</td>\n",
       "      <td>646.9</td>\n",
       "      <td>15.8</td>\n",
       "      <td>80.0</td>\n",
       "      <td>96.0</td>\n",
       "      <td>419.9</td>\n",
       "      <td>NaN</td>\n",
       "      <td>399.7</td>\n",
       "      <td>...</td>\n",
       "      <td>68.5</td>\n",
       "      <td>78.8</td>\n",
       "      <td>129.1</td>\n",
       "      <td>249.2</td>\n",
       "      <td>42.2</td>\n",
       "      <td>48.6</td>\n",
       "      <td>66.9</td>\n",
       "      <td>60.0</td>\n",
       "      <td>2.0</td>\n",
       "      <td>20.0</td>\n",
       "    </tr>\n",
       "    <tr>\n",
       "      <th>204</th>\n",
       "      <td>123.4</td>\n",
       "      <td>299.8</td>\n",
       "      <td>311.7</td>\n",
       "      <td>332.3</td>\n",
       "      <td>15.8</td>\n",
       "      <td>80.0</td>\n",
       "      <td>NaN</td>\n",
       "      <td>419.9</td>\n",
       "      <td>NaN</td>\n",
       "      <td>84.5</td>\n",
       "      <td>...</td>\n",
       "      <td>68.5</td>\n",
       "      <td>78.8</td>\n",
       "      <td>129.1</td>\n",
       "      <td>49.4</td>\n",
       "      <td>42.2</td>\n",
       "      <td>48.6</td>\n",
       "      <td>NaN</td>\n",
       "      <td>8.5</td>\n",
       "      <td>3.0</td>\n",
       "      <td>20.0</td>\n",
       "    </tr>\n",
       "    <tr>\n",
       "      <th>205</th>\n",
       "      <td>43.1</td>\n",
       "      <td>425.4</td>\n",
       "      <td>71.3</td>\n",
       "      <td>34.0</td>\n",
       "      <td>281.2</td>\n",
       "      <td>393.3</td>\n",
       "      <td>96.0</td>\n",
       "      <td>419.9</td>\n",
       "      <td>NaN</td>\n",
       "      <td>602.1</td>\n",
       "      <td>...</td>\n",
       "      <td>68.5</td>\n",
       "      <td>78.8</td>\n",
       "      <td>129.1</td>\n",
       "      <td>249.2</td>\n",
       "      <td>42.2</td>\n",
       "      <td>197.5</td>\n",
       "      <td>20.1</td>\n",
       "      <td>8.5</td>\n",
       "      <td>2.0</td>\n",
       "      <td>20.0</td>\n",
       "    </tr>\n",
       "    <tr>\n",
       "      <th>206</th>\n",
       "      <td>43.1</td>\n",
       "      <td>62.2</td>\n",
       "      <td>71.3</td>\n",
       "      <td>147.0</td>\n",
       "      <td>96.7</td>\n",
       "      <td>80.0</td>\n",
       "      <td>441.8</td>\n",
       "      <td>NaN</td>\n",
       "      <td>292.5</td>\n",
       "      <td>84.5</td>\n",
       "      <td>...</td>\n",
       "      <td>NaN</td>\n",
       "      <td>78.8</td>\n",
       "      <td>129.1</td>\n",
       "      <td>49.4</td>\n",
       "      <td>NaN</td>\n",
       "      <td>48.6</td>\n",
       "      <td>20.1</td>\n",
       "      <td>41.8</td>\n",
       "      <td>3.0</td>\n",
       "      <td>20.0</td>\n",
       "    </tr>\n",
       "  </tbody>\n",
       "</table>\n",
       "<p>192 rows × 22 columns</p>\n",
       "</div>"
      ],
      "text/plain": [
       "         0      1      2      3      4      5      6      7      8      9  \\\n",
       "0    123.4  299.8   71.3  147.0   96.7   80.0    NaN    NaN    NaN  399.7   \n",
       "1    191.6  299.8   71.3  147.0   96.7  455.8   96.0  419.9    NaN    NaN   \n",
       "2    191.6  425.4  311.7  147.0   15.8   80.0  441.8  256.5  292.5  399.7   \n",
       "3     43.1   62.2  451.9  646.9   67.6  393.3   96.0  419.9    NaN  399.7   \n",
       "5    123.4  299.8   71.3    NaN   15.8    NaN    NaN  256.5    NaN    NaN   \n",
       "..     ...    ...    ...    ...    ...    ...    ...    ...    ...    ...   \n",
       "202  191.6  425.4   71.3  147.0   15.8  393.3  455.5  419.9  292.5   84.5   \n",
       "203   43.1  425.4  311.7  646.9   15.8   80.0   96.0  419.9    NaN  399.7   \n",
       "204  123.4  299.8  311.7  332.3   15.8   80.0    NaN  419.9    NaN   84.5   \n",
       "205   43.1  425.4   71.3   34.0  281.2  393.3   96.0  419.9    NaN  602.1   \n",
       "206   43.1   62.2   71.3  147.0   96.7   80.0  441.8    NaN  292.5   84.5   \n",
       "\n",
       "     ...     12    13     14     15    16     17    18    19  version  job_idx  \n",
       "0    ...  355.4  78.8    NaN    NaN   NaN    NaN   NaN   NaN      1.0     16.0  \n",
       "1    ...    NaN   NaN    NaN    NaN   NaN    NaN   NaN   NaN      3.0     14.0  \n",
       "2    ...    NaN  17.6  129.1    NaN   NaN   10.5   NaN   8.5      1.0     20.0  \n",
       "3    ...  410.1   NaN  129.1    NaN   NaN    NaN   NaN   NaN      1.0     17.0  \n",
       "5    ...    NaN   NaN    NaN    NaN   NaN    NaN   NaN   NaN      3.0     10.0  \n",
       "..   ...    ...   ...    ...    ...   ...    ...   ...   ...      ...      ...  \n",
       "202  ...    NaN   NaN    NaN    NaN   NaN    NaN   NaN   NaN      1.0     16.0  \n",
       "203  ...   68.5  78.8  129.1  249.2  42.2   48.6  66.9  60.0      2.0     20.0  \n",
       "204  ...   68.5  78.8  129.1   49.4  42.2   48.6   NaN   8.5      3.0     20.0  \n",
       "205  ...   68.5  78.8  129.1  249.2  42.2  197.5  20.1   8.5      2.0     20.0  \n",
       "206  ...    NaN  78.8  129.1   49.4   NaN   48.6  20.1  41.8      3.0     20.0  \n",
       "\n",
       "[192 rows x 22 columns]"
      ]
     },
     "execution_count": 15,
     "metadata": {},
     "output_type": "execute_result"
    }
   ],
   "source": [
    "def parse_schedule(user):\n",
    "    job_assignments = {}\n",
    "    for timestep, decisions in json.loads(user.scheduling_decisions.replace(\"'\", \"\\\"\")).items():\n",
    "        for machine, job_prop in decisions.items():\n",
    "            if job_prop[1] == 1:\n",
    "                job_assignments[int(job_prop[0])] = machine\n",
    "    \n",
    "    job_energy = {i: np.nan for  i in range(len(jobs))}\n",
    "    for job_idx, machine in job_assignments.items():\n",
    "        job_energy[job_idx] = jobs[job_idx][\"resources\"][machine][\"energy\"]\n",
    "    job_energy[\"version\"] = user.version\n",
    "    job_energy[\"job_idx\"] = user.job_idx\n",
    "            \n",
    "    return pd.Series(job_energy)\n",
    "\n",
    "energy_per_job = df.apply(parse_schedule, axis=1)\n",
    "energy_per_job"
   ]
  },
  {
   "cell_type": "code",
   "execution_count": 16,
   "id": "6a00a234",
   "metadata": {},
   "outputs": [
    {
     "data": {
      "text/html": [
       "<div>\n",
       "<style scoped>\n",
       "    .dataframe tbody tr th:only-of-type {\n",
       "        vertical-align: middle;\n",
       "    }\n",
       "\n",
       "    .dataframe tbody tr th {\n",
       "        vertical-align: top;\n",
       "    }\n",
       "\n",
       "    .dataframe thead th {\n",
       "        text-align: right;\n",
       "    }\n",
       "</style>\n",
       "<table border=\"1\" class=\"dataframe\">\n",
       "  <thead>\n",
       "    <tr style=\"text-align: right;\">\n",
       "      <th></th>\n",
       "      <th>version</th>\n",
       "      <th>job_idx</th>\n",
       "      <th>job_id</th>\n",
       "      <th>energy</th>\n",
       "      <th>run</th>\n",
       "      <th>could_run</th>\n",
       "    </tr>\n",
       "  </thead>\n",
       "  <tbody>\n",
       "    <tr>\n",
       "      <th>0</th>\n",
       "      <td>1.0</td>\n",
       "      <td>16.0</td>\n",
       "      <td>0</td>\n",
       "      <td>123.4</td>\n",
       "      <td>True</td>\n",
       "      <td>True</td>\n",
       "    </tr>\n",
       "    <tr>\n",
       "      <th>1</th>\n",
       "      <td>3.0</td>\n",
       "      <td>14.0</td>\n",
       "      <td>0</td>\n",
       "      <td>191.6</td>\n",
       "      <td>True</td>\n",
       "      <td>True</td>\n",
       "    </tr>\n",
       "    <tr>\n",
       "      <th>2</th>\n",
       "      <td>1.0</td>\n",
       "      <td>20.0</td>\n",
       "      <td>0</td>\n",
       "      <td>191.6</td>\n",
       "      <td>True</td>\n",
       "      <td>True</td>\n",
       "    </tr>\n",
       "    <tr>\n",
       "      <th>3</th>\n",
       "      <td>1.0</td>\n",
       "      <td>17.0</td>\n",
       "      <td>0</td>\n",
       "      <td>43.1</td>\n",
       "      <td>True</td>\n",
       "      <td>True</td>\n",
       "    </tr>\n",
       "    <tr>\n",
       "      <th>4</th>\n",
       "      <td>3.0</td>\n",
       "      <td>10.0</td>\n",
       "      <td>0</td>\n",
       "      <td>123.4</td>\n",
       "      <td>True</td>\n",
       "      <td>True</td>\n",
       "    </tr>\n",
       "    <tr>\n",
       "      <th>...</th>\n",
       "      <td>...</td>\n",
       "      <td>...</td>\n",
       "      <td>...</td>\n",
       "      <td>...</td>\n",
       "      <td>...</td>\n",
       "      <td>...</td>\n",
       "    </tr>\n",
       "    <tr>\n",
       "      <th>3835</th>\n",
       "      <td>1.0</td>\n",
       "      <td>16.0</td>\n",
       "      <td>19</td>\n",
       "      <td>NaN</td>\n",
       "      <td>False</td>\n",
       "      <td>False</td>\n",
       "    </tr>\n",
       "    <tr>\n",
       "      <th>3836</th>\n",
       "      <td>2.0</td>\n",
       "      <td>20.0</td>\n",
       "      <td>19</td>\n",
       "      <td>60.0</td>\n",
       "      <td>True</td>\n",
       "      <td>True</td>\n",
       "    </tr>\n",
       "    <tr>\n",
       "      <th>3837</th>\n",
       "      <td>3.0</td>\n",
       "      <td>20.0</td>\n",
       "      <td>19</td>\n",
       "      <td>8.5</td>\n",
       "      <td>True</td>\n",
       "      <td>True</td>\n",
       "    </tr>\n",
       "    <tr>\n",
       "      <th>3838</th>\n",
       "      <td>2.0</td>\n",
       "      <td>20.0</td>\n",
       "      <td>19</td>\n",
       "      <td>8.5</td>\n",
       "      <td>True</td>\n",
       "      <td>True</td>\n",
       "    </tr>\n",
       "    <tr>\n",
       "      <th>3839</th>\n",
       "      <td>3.0</td>\n",
       "      <td>20.0</td>\n",
       "      <td>19</td>\n",
       "      <td>41.8</td>\n",
       "      <td>True</td>\n",
       "      <td>True</td>\n",
       "    </tr>\n",
       "  </tbody>\n",
       "</table>\n",
       "<p>3840 rows × 6 columns</p>\n",
       "</div>"
      ],
      "text/plain": [
       "      version  job_idx job_id  energy    run  could_run\n",
       "0         1.0     16.0      0   123.4   True       True\n",
       "1         3.0     14.0      0   191.6   True       True\n",
       "2         1.0     20.0      0   191.6   True       True\n",
       "3         1.0     17.0      0    43.1   True       True\n",
       "4         3.0     10.0      0   123.4   True       True\n",
       "...       ...      ...    ...     ...    ...        ...\n",
       "3835      1.0     16.0     19     NaN  False      False\n",
       "3836      2.0     20.0     19    60.0   True       True\n",
       "3837      3.0     20.0     19     8.5   True       True\n",
       "3838      2.0     20.0     19     8.5   True       True\n",
       "3839      3.0     20.0     19    41.8   True       True\n",
       "\n",
       "[3840 rows x 6 columns]"
      ]
     },
     "execution_count": 16,
     "metadata": {},
     "output_type": "execute_result"
    }
   ],
   "source": [
    "melted = pd.melt(energy_per_job, id_vars=[\"version\", \"job_idx\"], var_name=\"job_id\", value_name=\"energy\")\n",
    "melted[\"run\"] = ~melted[\"energy\"].isna()\n",
    "melted[\"could_run\"] = melted[\"job_id\"] <= melted[\"job_idx\"]\n",
    "melted"
   ]
  },
  {
   "cell_type": "code",
   "execution_count": 17,
   "id": "27c38f7e",
   "metadata": {},
   "outputs": [
    {
     "data": {
      "text/plain": [
       "Text(0, 0.5, 'Proportion Ran Job')"
      ]
     },
     "execution_count": 17,
     "metadata": {},
     "output_type": "execute_result"
    },
    {
     "data": {
      "image/png": "[encoded data removed]",
      "text/plain": [
       "<Figure size 330.704x172.762 with 1 Axes>"
      ]
     },
     "metadata": {},
     "output_type": "display_data"
    }
   ],
   "source": [
    "grouped = melted[melted[\"could_run\"] == True].groupby([\"job_id\", \"version\"])[\"run\"].value_counts(normalize=True).unstack().reset_index()\n",
    "fig, ax = plt.subplots(1,1)\n",
    "sns.barplot(data=grouped, x=\"job_id\", y=True, hue=\"version\", ax=ax)\n",
    "ax.set_ylabel(\"Proportion Ran Job\")\n",
    "# sns.countplot(data=melted, x=\"job_id\", hue=\"version\")"
   ]
  },
  {
   "cell_type": "code",
   "execution_count": 18,
   "id": "906be0d4",
   "metadata": {},
   "outputs": [
    {
     "data": {
      "image/png": "[encoded data removed]",
      "text/plain": [
       "<Figure size 330.704x172.762 with 1 Axes>"
      ]
     },
     "metadata": {},
     "output_type": "display_data"
    }
   ],
   "source": [
    "grouped = melted[melted[\"could_run\"] == True].groupby([\"job_id\", \"version\"])[[\"run\", \"energy\"]].agg({\"run\": [\"sum\", len], \"energy\": \"mean\"}).reset_index()\n",
    "grouped.columns = [\"job_id\", \"version\", \"run\", \"could_run\", \"energy\"]\n",
    "grouped[\"prop_ran\"] = grouped[\"run\"] / grouped[\"could_run\"]\n",
    "grouped[\"energy\"] = grouped.groupby([\"job_id\"])[\"energy\"].transform(\"mean\")\n",
    "\n",
    "fig, ax = plt.subplots(1,1)\n",
    "sns.regplot(data=grouped[grouped[\"version\"] == 1], x=\"energy\", y=\"prop_ran\", color=colors[0], label=\"Version 1\", robust=True, ax=ax)\n",
    "sns.regplot(data=grouped[grouped[\"version\"] == 2], x=\"energy\", y=\"prop_ran\", color=colors[1], label=\"Version 2\", robust=True, ax=ax)\n",
    "sns.regplot(data=grouped[grouped[\"version\"] == 3], x=\"energy\", y=\"prop_ran\", color=colors[2], label=\"Version 3\", robust=True, ax=ax)\n",
    "# sns.scatterplot(grouped, x=\"energy\", y=\"prop_ran\", hue=\"version\", ax=ax)\n",
    "# ax.get_legend().remove()\n",
    "plt.legend(loc=\"lower right\")\n",
    "ax.set_ylabel(\"Probability\")\n",
    "ax.set_xlabel(\"Mean Energy Consumed\")\n",
    "plt.savefig(\"figures/game_job_probability_by_energy.pdf\")\n",
    "# plt.savefig(\"figures/game_job_probability_by_energy_talk.png\")"
   ]
  },
  {
   "cell_type": "code",
   "execution_count": 19,
   "id": "44d1eb4a",
   "metadata": {},
   "outputs": [
    {
     "name": "stderr",
     "output_type": "stream",
     "text": [
      "/tmp/ipykernel_3101/702893150.py:3: UserWarning: The palette list has more values (5) than needed (3), which may not be intended.\n",
      "  fig = sns.barplot(melted, x=\"job_id\", y=\"energy\", hue=\"version_\", hue_order=[\"Version 1\", \"Version 2\", \"Version 3\"], palette=colors, errorbar=None)\n"
     ]
    },
    {
     "data": {
      "image/png": "[encoded data removed]",
      "text/plain": [
       "<Figure size 330.704x172.762 with 1 Axes>"
      ]
     },
     "metadata": {},
     "output_type": "display_data"
    }
   ],
   "source": [
    "fig, ax = plt.subplots(1,1)\n",
    "melted[\"version_\"]  = melted[\"version\"].map({1: \"Version 1\", 2: \"Version 2\", 3: \"Version 3\"})\n",
    "fig = sns.barplot(melted, x=\"job_id\", y=\"energy\", hue=\"version_\", hue_order=[\"Version 1\", \"Version 2\", \"Version 3\"], palette=colors, errorbar=None)\n",
    "ax.get_legend().set_title(None)\n",
    "ax.set_xticklabels([])\n",
    "ax.set_xlabel(\"Job (in Arrival Order)\")\n",
    "ax.set_ylabel(\"Mean Energy\")\n",
    "plt.savefig(\"figures/game_energy_by_job.pdf\")\n",
    "plt.savefig(\"figures/game_energy_by_job_talk.png\")"
   ]
  },
  {
   "cell_type": "markdown",
   "id": "6de7b29f",
   "metadata": {},
   "source": [
    "# "
   ]
  }
 ],
 "metadata": {
  "kernelspec": {
   "display_name": "Python 3 (ipykernel)",
   "language": "python",
   "name": "python3"
  },
  "language_info": {
   "codemirror_mode": {
    "name": "ipython",
    "version": 3
   },
   "file_extension": ".py",
   "mimetype": "text/x-python",
   "name": "python",
   "nbconvert_exporter": "python",
   "pygments_lexer": "ipython3",
   "version": "3.13.2"
  }
 },
 "nbformat": 4,
 "nbformat_minor": 5
}
