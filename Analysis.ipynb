{
 "cells": [
  {
   "cell_type": "code",
   "execution_count": 1,
   "id": "65429701",
   "metadata": {},
   "outputs": [],
   "source": [
    "import json\n",
    "import matplotlib.pyplot as plt\n",
    "import seaborn as sns\n",
    "import numpy as np\n",
    "from pymongo import MongoClient\n",
    "from collections import defaultdict\n",
    "import pandas as pd\n",
    "from scipy import stats\n",
    "import statsmodels.api as sm\n",
    "from statsmodels.formula.api import ols"
   ]
  },
  {
   "cell_type": "code",
   "execution_count": 46,
   "id": "0b798897",
   "metadata": {},
   "outputs": [],
   "source": [
    "plt.style.use('seaborn-v0_8-paper')\n",
    "pt = 1./72.27\n",
    "fig_width = 239 * pt\n",
    "aspect_ratio = (1 + 8 ** 0.5) / 2\n",
    "plt.rcParams[\"figure.figsize\"] = (fig_width, fig_width/aspect_ratio)\n",
    "plt.rcParams[\"savefig.bbox\"] = \"tight\"\n",
    "sns.set_theme(style='whitegrid', context='paper', rc={'axes.facecolor': 'white', 'figure.figsize': (fig_width, fig_width/aspect_ratio)})\n",
    "# sns.set_theme(style='whitegrid', context='paper', rc={'savefig.transparent': True, 'figure.figsize': (fig_width, fig_width/aspect_ratio), 'axes.labelsize': 14})\n",
    "\n",
    "colors = [\"#00a1de\", \"#009b3a\", \"#c60c30\", \"#f9461c\", \"#532A92\"]"
   ]
  },
  {
   "cell_type": "code",
   "execution_count": 2,
   "id": "ac886b11",
   "metadata": {},
   "outputs": [],
   "source": [
    "client = MongoClient()\n",
    "game_responses = client.enery_survey.game_responses"
   ]
  },
  {
   "cell_type": "code",
   "execution_count": 3,
   "id": "1273f3b8",
   "metadata": {},
   "outputs": [
    {
     "data": {
      "text/plain": [
       "325"
      ]
     },
     "execution_count": 3,
     "metadata": {},
     "output_type": "execute_result"
    }
   ],
   "source": [
    "game_responses.count_documents({})"
   ]
  },
  {
   "cell_type": "code",
   "execution_count": 8,
   "id": "06084d1d",
   "metadata": {},
   "outputs": [
    {
     "data": {
      "text/plain": [
       "DeleteResult({'n': 31, 'ok': 1.0}, acknowledged=True)"
      ]
     },
     "execution_count": 8,
     "metadata": {},
     "output_type": "execute_result"
    }
   ],
   "source": [
    "#### DO NOT UNCOMMENT!!!!! #####\n",
    "# deleted_response = game_responses.delete_many({})\n",
    "# deleted_response"
   ]
  },
  {
   "cell_type": "code",
   "execution_count": 3,
   "id": "491e53e3",
   "metadata": {},
   "outputs": [],
   "source": [
    "machine_list = {\n",
    "    \"machine1\": { 'id': 'machine1', 'text': 'Machine 1', 'max_power': 20},\n",
    "    \"machine2\": { 'id': 'machine2', 'text': 'Machine 2', 'max_power': 40},\n",
    "    \"machine3\": { 'id': 'machine3', 'text': 'Machine 3', 'max_power': 40},\n",
    "    \"machine4\": { 'id': 'machine4', 'text': 'Machine 4', 'max_power': 30}\n",
    "}\n",
    "\n",
    "with open(\"static/sample_jobs.json\") as fp:\n",
    "    jobs = json.load(fp)\n",
    "    \n",
    "def energy_cost(machine, job):\n",
    "    return ((machine_list[machine]['max_power'] * job[\"resources\"][machine][\"runtime\"]) + job[\"resources\"][machine][\"energy\"]) / 2"
   ]
  },
  {
   "cell_type": "code",
   "execution_count": 4,
   "id": "3c22542a",
   "metadata": {},
   "outputs": [
    {
     "name": "stdout",
     "output_type": "stream",
     "text": [
      "160\n",
      "defaultdict(<class 'int'>, {'machine1': 82, 'machine3': 74, 'machine2': 4})\n"
     ]
    }
   ],
   "source": [
    "min_time = sum(min(machine['runtime'] for machine in job[\"resources\"].values()) for job in jobs)\n",
    "time_by_machine = defaultdict(int)\n",
    "for job in jobs:\n",
    "    machine = min(job[\"resources\"].keys(), key=lambda m : job[\"resources\"][m][\"runtime\"])\n",
    "    time_by_machine[machine] += job[\"resources\"][machine][\"runtime\"]\n",
    "    \n",
    "print(min_time)\n",
    "print(time_by_machine)"
   ]
  },
  {
   "cell_type": "code",
   "execution_count": 5,
   "id": "523332af",
   "metadata": {},
   "outputs": [
    {
     "name": "stdout",
     "output_type": "stream",
     "text": [
      "1476.3999999999999\n",
      "3008.2000000000003\n",
      "defaultdict(<class 'int'>, {'machine1': 227})\n"
     ]
    }
   ],
   "source": [
    "min_energy = sum(min(machine['energy'] for machine in job[\"resources\"].values()) for job in jobs)\n",
    "time_by_machine = defaultdict(int)\n",
    "cost = 0\n",
    "for job in jobs:\n",
    "    machine = min(job[\"resources\"].keys(), key=lambda m : job[\"resources\"][m][\"energy\"])\n",
    "    time_by_machine[machine] += job[\"resources\"][machine][\"runtime\"]\n",
    "    cost += energy_cost(machine, job)\n",
    "    \n",
    "print(min_energy)\n",
    "print(cost)\n",
    "print(time_by_machine)"
   ]
  },
  {
   "cell_type": "code",
   "execution_count": 6,
   "id": "6c7ebd94",
   "metadata": {},
   "outputs": [
    {
     "name": "stdout",
     "output_type": "stream",
     "text": [
      "2866.4500000000003\n",
      "defaultdict(<class 'int'>, {'machine1': 152, 'machine3': 29})\n"
     ]
    }
   ],
   "source": [
    "min_cost = sum(min(energy_cost(machine, job) for machine in job[\"resources\"]) for job in jobs)\n",
    "\n",
    "time_by_machine = defaultdict(int)\n",
    "for job in jobs:\n",
    "    machine = min(job[\"resources\"].keys(), key=lambda m : energy_cost(m, job))\n",
    "    time_by_machine[machine] += job[\"resources\"][machine][\"runtime\"]\n",
    "    \n",
    "print(min_cost)\n",
    "print(time_by_machine)"
   ]
  },
  {
   "cell_type": "code",
   "execution_count": 7,
   "id": "4db7d27b",
   "metadata": {},
   "outputs": [
    {
     "data": {
      "text/plain": [
       "3583.0625000000005"
      ]
     },
     "execution_count": 7,
     "metadata": {},
     "output_type": "execute_result"
    }
   ],
   "source": [
    "energy_allocation = (200/160) * min_cost\n",
    "energy_allocation"
   ]
  },
  {
   "cell_type": "code",
   "execution_count": 47,
   "id": "079271ac",
   "metadata": {},
   "outputs": [],
   "source": [
    "# responses = game_responses.find({\"plays\": {\"$ne\": 1}})\n",
    "# df = pd.DataFrame(responses)\n",
    "# df.to_csv(\"game_responses.csv\")\n",
    "df = pd.read_csv(\"game_responses.csv\", index_col=0)"
   ]
  },
  {
   "cell_type": "code",
   "execution_count": 48,
   "id": "c5f1e909",
   "metadata": {},
   "outputs": [
    {
     "data": {
      "text/html": [
       "<div>\n",
       "<style scoped>\n",
       "    .dataframe tbody tr th:only-of-type {\n",
       "        vertical-align: middle;\n",
       "    }\n",
       "\n",
       "    .dataframe tbody tr th {\n",
       "        vertical-align: top;\n",
       "    }\n",
       "\n",
       "    .dataframe thead th {\n",
       "        text-align: right;\n",
       "    }\n",
       "</style>\n",
       "<table border=\"1\" class=\"dataframe\">\n",
       "  <thead>\n",
       "    <tr style=\"text-align: right;\">\n",
       "      <th></th>\n",
       "      <th>_id</th>\n",
       "      <th>jobs_completed</th>\n",
       "      <th>timeLeft</th>\n",
       "      <th>total_allocation</th>\n",
       "      <th>allocation</th>\n",
       "      <th>total_energy</th>\n",
       "      <th>total_runtime</th>\n",
       "      <th>scheduling_decisions</th>\n",
       "      <th>job_idx</th>\n",
       "      <th>userID</th>\n",
       "      <th>plays</th>\n",
       "      <th>visits</th>\n",
       "      <th>group</th>\n",
       "      <th>startTime</th>\n",
       "      <th>gameTime</th>\n",
       "      <th>version</th>\n",
       "    </tr>\n",
       "  </thead>\n",
       "  <tbody>\n",
       "    <tr>\n",
       "      <th>0</th>\n",
       "      <td>66be38d1217dee6c11eced47</td>\n",
       "      <td>11</td>\n",
       "      <td>4</td>\n",
       "      <td>200</td>\n",
       "      <td>77.000000</td>\n",
       "      <td>2123.385714</td>\n",
       "      <td>123</td>\n",
       "      <td>{'7': {'machine1': ['10', 1], 'machine2': ['13...</td>\n",
       "      <td>16</td>\n",
       "      <td>1on9b7a</td>\n",
       "      <td>2</td>\n",
       "      <td>2</td>\n",
       "      <td>2</td>\n",
       "      <td>1723742065812</td>\n",
       "      <td>329560</td>\n",
       "      <td>1</td>\n",
       "    </tr>\n",
       "    <tr>\n",
       "      <th>1</th>\n",
       "      <td>66be39933bebf2876408dc66</td>\n",
       "      <td>9</td>\n",
       "      <td>22</td>\n",
       "      <td>3000</td>\n",
       "      <td>0.157143</td>\n",
       "      <td>2159.685714</td>\n",
       "      <td>118</td>\n",
       "      <td>{'30': {'machine1': ['9', 0.8888888888888888],...</td>\n",
       "      <td>14</td>\n",
       "      <td>1on9b7a</td>\n",
       "      <td>3</td>\n",
       "      <td>3</td>\n",
       "      <td>2</td>\n",
       "      <td>1723742419420</td>\n",
       "      <td>190058</td>\n",
       "      <td>3</td>\n",
       "    </tr>\n",
       "    <tr>\n",
       "      <th>2</th>\n",
       "      <td>66be3a39217dee6c11eced48</td>\n",
       "      <td>16</td>\n",
       "      <td>0</td>\n",
       "      <td>200</td>\n",
       "      <td>29.000000</td>\n",
       "      <td>3078.900000</td>\n",
       "      <td>171</td>\n",
       "      <td>{'1': {'machine1': ['19', 1]}, '2': {'machine2...</td>\n",
       "      <td>20</td>\n",
       "      <td>1on9b7a</td>\n",
       "      <td>4</td>\n",
       "      <td>4</td>\n",
       "      <td>2</td>\n",
       "      <td>1723742626191</td>\n",
       "      <td>151298</td>\n",
       "      <td>1</td>\n",
       "    </tr>\n",
       "    <tr>\n",
       "      <th>3</th>\n",
       "      <td>66bf707b09f21551ff542cfd</td>\n",
       "      <td>12</td>\n",
       "      <td>12</td>\n",
       "      <td>200</td>\n",
       "      <td>8.000000</td>\n",
       "      <td>3518.994242</td>\n",
       "      <td>192</td>\n",
       "      <td>{'13': {'machine1': ['8', 0.05], 'machine2': [...</td>\n",
       "      <td>17</td>\n",
       "      <td>19abi9c</td>\n",
       "      <td>2</td>\n",
       "      <td>2</td>\n",
       "      <td>0</td>\n",
       "      <td>1723822133887</td>\n",
       "      <td>63355</td>\n",
       "      <td>1</td>\n",
       "    </tr>\n",
       "    <tr>\n",
       "      <th>4</th>\n",
       "      <td>66bf70a2ddc4307faabac4a7</td>\n",
       "      <td>9</td>\n",
       "      <td>11</td>\n",
       "      <td>200</td>\n",
       "      <td>4.000000</td>\n",
       "      <td>3954.324242</td>\n",
       "      <td>196</td>\n",
       "      <td>{'20': {'machine1': ['7', 1], 'machine2': ['8'...</td>\n",
       "      <td>14</td>\n",
       "      <td>19abi9c</td>\n",
       "      <td>3</td>\n",
       "      <td>3</td>\n",
       "      <td>0</td>\n",
       "      <td>1723822209789</td>\n",
       "      <td>24594</td>\n",
       "      <td>2</td>\n",
       "    </tr>\n",
       "    <tr>\n",
       "      <th>...</th>\n",
       "      <td>...</td>\n",
       "      <td>...</td>\n",
       "      <td>...</td>\n",
       "      <td>...</td>\n",
       "      <td>...</td>\n",
       "      <td>...</td>\n",
       "      <td>...</td>\n",
       "      <td>...</td>\n",
       "      <td>...</td>\n",
       "      <td>...</td>\n",
       "      <td>...</td>\n",
       "      <td>...</td>\n",
       "      <td>...</td>\n",
       "      <td>...</td>\n",
       "      <td>...</td>\n",
       "      <td>...</td>\n",
       "    </tr>\n",
       "    <tr>\n",
       "      <th>202</th>\n",
       "      <td>66dad6b23bebf2876408dcaf</td>\n",
       "      <td>11</td>\n",
       "      <td>7</td>\n",
       "      <td>200</td>\n",
       "      <td>2.000000</td>\n",
       "      <td>3515.735584</td>\n",
       "      <td>198</td>\n",
       "      <td>{'10': {'machine1': ['10', 0.3333333333333333]...</td>\n",
       "      <td>16</td>\n",
       "      <td>1l3my9v</td>\n",
       "      <td>2</td>\n",
       "      <td>2</td>\n",
       "      <td>0</td>\n",
       "      <td>1725616719133</td>\n",
       "      <td>1086099</td>\n",
       "      <td>1</td>\n",
       "    </tr>\n",
       "    <tr>\n",
       "      <th>203</th>\n",
       "      <td>66dad9003bebf2876408dcb0</td>\n",
       "      <td>19</td>\n",
       "      <td>4</td>\n",
       "      <td>200</td>\n",
       "      <td>9.000000</td>\n",
       "      <td>3533.000000</td>\n",
       "      <td>191</td>\n",
       "      <td>{'4': {}, '10': {'machine2': ['15', 1]}, '11':...</td>\n",
       "      <td>20</td>\n",
       "      <td>1l3my9v</td>\n",
       "      <td>3</td>\n",
       "      <td>3</td>\n",
       "      <td>0</td>\n",
       "      <td>1725617848162</td>\n",
       "      <td>581944</td>\n",
       "      <td>2</td>\n",
       "    </tr>\n",
       "    <tr>\n",
       "      <th>204</th>\n",
       "      <td>66df03dd217dee6c11eced9b</td>\n",
       "      <td>16</td>\n",
       "      <td>2</td>\n",
       "      <td>3000</td>\n",
       "      <td>16.350000</td>\n",
       "      <td>2127.300000</td>\n",
       "      <td>125</td>\n",
       "      <td>{'3': {'machine1': ['19', 1]}, '7': {'machine1...</td>\n",
       "      <td>20</td>\n",
       "      <td>19vqkwl</td>\n",
       "      <td>2</td>\n",
       "      <td>2</td>\n",
       "      <td>5</td>\n",
       "      <td>1725891059130</td>\n",
       "      <td>487805</td>\n",
       "      <td>3</td>\n",
       "    </tr>\n",
       "    <tr>\n",
       "      <th>205</th>\n",
       "      <td>66df0540217dee6c11eced9c</td>\n",
       "      <td>19</td>\n",
       "      <td>0</td>\n",
       "      <td>200</td>\n",
       "      <td>14.000000</td>\n",
       "      <td>3511.400000</td>\n",
       "      <td>186</td>\n",
       "      <td>{'1': {'machine3': ['9', 1]}, '6': {'machine3'...</td>\n",
       "      <td>20</td>\n",
       "      <td>19vqkwl</td>\n",
       "      <td>3</td>\n",
       "      <td>3</td>\n",
       "      <td>5</td>\n",
       "      <td>1725891560985</td>\n",
       "      <td>343574</td>\n",
       "      <td>2</td>\n",
       "    </tr>\n",
       "    <tr>\n",
       "      <th>206</th>\n",
       "      <td>66df07d2ddc4307faabac4f9</td>\n",
       "      <td>17</td>\n",
       "      <td>2</td>\n",
       "      <td>3000</td>\n",
       "      <td>10.950000</td>\n",
       "      <td>2038.100000</td>\n",
       "      <td>127</td>\n",
       "      <td>{'3': {'machine2': ['19', 1]}, '4': {'machine1...</td>\n",
       "      <td>20</td>\n",
       "      <td>19vqkwl</td>\n",
       "      <td>4</td>\n",
       "      <td>4</td>\n",
       "      <td>5</td>\n",
       "      <td>1725891914340</td>\n",
       "      <td>645948</td>\n",
       "      <td>3</td>\n",
       "    </tr>\n",
       "  </tbody>\n",
       "</table>\n",
       "<p>207 rows × 16 columns</p>\n",
       "</div>"
      ],
      "text/plain": [
       "                          _id  jobs_completed  timeLeft  total_allocation  \\\n",
       "0    66be38d1217dee6c11eced47              11         4               200   \n",
       "1    66be39933bebf2876408dc66               9        22              3000   \n",
       "2    66be3a39217dee6c11eced48              16         0               200   \n",
       "3    66bf707b09f21551ff542cfd              12        12               200   \n",
       "4    66bf70a2ddc4307faabac4a7               9        11               200   \n",
       "..                        ...             ...       ...               ...   \n",
       "202  66dad6b23bebf2876408dcaf              11         7               200   \n",
       "203  66dad9003bebf2876408dcb0              19         4               200   \n",
       "204  66df03dd217dee6c11eced9b              16         2              3000   \n",
       "205  66df0540217dee6c11eced9c              19         0               200   \n",
       "206  66df07d2ddc4307faabac4f9              17         2              3000   \n",
       "\n",
       "     allocation  total_energy  total_runtime  \\\n",
       "0     77.000000   2123.385714            123   \n",
       "1      0.157143   2159.685714            118   \n",
       "2     29.000000   3078.900000            171   \n",
       "3      8.000000   3518.994242            192   \n",
       "4      4.000000   3954.324242            196   \n",
       "..          ...           ...            ...   \n",
       "202    2.000000   3515.735584            198   \n",
       "203    9.000000   3533.000000            191   \n",
       "204   16.350000   2127.300000            125   \n",
       "205   14.000000   3511.400000            186   \n",
       "206   10.950000   2038.100000            127   \n",
       "\n",
       "                                  scheduling_decisions  job_idx   userID  \\\n",
       "0    {'7': {'machine1': ['10', 1], 'machine2': ['13...       16  1on9b7a   \n",
       "1    {'30': {'machine1': ['9', 0.8888888888888888],...       14  1on9b7a   \n",
       "2    {'1': {'machine1': ['19', 1]}, '2': {'machine2...       20  1on9b7a   \n",
       "3    {'13': {'machine1': ['8', 0.05], 'machine2': [...       17  19abi9c   \n",
       "4    {'20': {'machine1': ['7', 1], 'machine2': ['8'...       14  19abi9c   \n",
       "..                                                 ...      ...      ...   \n",
       "202  {'10': {'machine1': ['10', 0.3333333333333333]...       16  1l3my9v   \n",
       "203  {'4': {}, '10': {'machine2': ['15', 1]}, '11':...       20  1l3my9v   \n",
       "204  {'3': {'machine1': ['19', 1]}, '7': {'machine1...       20  19vqkwl   \n",
       "205  {'1': {'machine3': ['9', 1]}, '6': {'machine3'...       20  19vqkwl   \n",
       "206  {'3': {'machine2': ['19', 1]}, '4': {'machine1...       20  19vqkwl   \n",
       "\n",
       "     plays  visits  group      startTime  gameTime  version  \n",
       "0        2       2      2  1723742065812    329560        1  \n",
       "1        3       3      2  1723742419420    190058        3  \n",
       "2        4       4      2  1723742626191    151298        1  \n",
       "3        2       2      0  1723822133887     63355        1  \n",
       "4        3       3      0  1723822209789     24594        2  \n",
       "..     ...     ...    ...            ...       ...      ...  \n",
       "202      2       2      0  1725616719133   1086099        1  \n",
       "203      3       3      0  1725617848162    581944        2  \n",
       "204      2       2      5  1725891059130    487805        3  \n",
       "205      3       3      5  1725891560985    343574        2  \n",
       "206      4       4      5  1725891914340    645948        3  \n",
       "\n",
       "[207 rows x 16 columns]"
      ]
     },
     "execution_count": 48,
     "metadata": {},
     "output_type": "execute_result"
    }
   ],
   "source": [
    "df"
   ]
  },
  {
   "cell_type": "code",
   "execution_count": 49,
   "id": "3b24556c",
   "metadata": {},
   "outputs": [
    {
     "data": {
      "text/plain": [
       "90"
      ]
     },
     "execution_count": 49,
     "metadata": {},
     "output_type": "execute_result"
    }
   ],
   "source": [
    "df.userID.nunique()"
   ]
  },
  {
   "cell_type": "code",
   "execution_count": 50,
   "id": "c5a2f71a",
   "metadata": {},
   "outputs": [
    {
     "data": {
      "text/plain": [
       "Text(0.5, 0, 'Real Time Taken (Minutes)')"
      ]
     },
     "execution_count": 50,
     "metadata": {},
     "output_type": "execute_result"
    },
    {
     "data": {
      "image/png": "[encoded data removed]",
      "text/plain": [
       "<Figure size 330.704x172.762 with 1 Axes>"
      ]
     },
     "metadata": {},
     "output_type": "display_data"
    }
   ],
   "source": [
    "df[\"gameTimeMin\"] = df[\"gameTime\"] /(1e3 * 60)\n",
    "fig, ax = plt.subplots(1,1)\n",
    "sns.scatterplot(data=df, x=\"gameTimeMin\", y=\"timeLeft\", ax=ax)\n",
    "ax.set_ylabel(\"Simulated Time Remaining\")\n",
    "ax.set_xlabel(\"Real Time Taken (Minutes)\")"
   ]
  },
  {
   "cell_type": "code",
   "execution_count": 51,
   "id": "b4519a69",
   "metadata": {},
   "outputs": [
    {
     "name": "stderr",
     "output_type": "stream",
     "text": [
      "/tmp/ipykernel_646/2225852331.py:2: SettingWithCopyWarning: \n",
      "A value is trying to be set on a copy of a slice from a DataFrame.\n",
      "Try using .loc[row_indexer,col_indexer] = value instead\n",
      "\n",
      "See the caveats in the documentation: https://pandas.pydata.org/pandas-docs/stable/user_guide/indexing.html#returning-a-view-versus-a-copy\n",
      "  df[\"energy_per_job\"] = df[\"total_energy\"] / df[\"jobs_completed\"]\n",
      "/tmp/ipykernel_646/2225852331.py:3: SettingWithCopyWarning: \n",
      "A value is trying to be set on a copy of a slice from a DataFrame.\n",
      "Try using .loc[row_indexer,col_indexer] = value instead\n",
      "\n",
      "See the caveats in the documentation: https://pandas.pydata.org/pandas-docs/stable/user_guide/indexing.html#returning-a-view-versus-a-copy\n",
      "  df[\"energy_per_time\"] = df[\"total_energy\"] / df[\"total_runtime\"]\n"
     ]
    },
    {
     "data": {
      "text/plain": [
       "(192, 19)"
      ]
     },
     "execution_count": 51,
     "metadata": {},
     "output_type": "execute_result"
    }
   ],
   "source": [
    "df = df[df[\"gameTimeMin\"] > 1]\n",
    "df[\"energy_per_job\"] = df[\"total_energy\"] / df[\"jobs_completed\"]\n",
    "df[\"energy_per_time\"] = df[\"total_energy\"] / df[\"total_runtime\"]\n",
    "df.shape"
   ]
  },
  {
   "cell_type": "code",
   "execution_count": 52,
   "id": "7737eeb9",
   "metadata": {
    "scrolled": false
   },
   "outputs": [
    {
     "name": "stderr",
     "output_type": "stream",
     "text": [
      "/tmp/ipykernel_646/1079387758.py:2: FutureWarning: \n",
      "\n",
      "Passing `palette` without assigning `hue` is deprecated and will be removed in v0.14.0. Assign the `x` variable to `hue` and set `legend=False` for the same effect.\n",
      "\n",
      "  sns.violinplot(data=df, x=\"version\", y=\"total_energy\", order=[\"1\",\"2\",\"3\"], ax=ax, palette=colors)\n",
      "/tmp/ipykernel_646/1079387758.py:2: UserWarning: The palette list has more values (5) than needed (3), which may not be intended.\n",
      "  sns.violinplot(data=df, x=\"version\", y=\"total_energy\", order=[\"1\",\"2\",\"3\"], ax=ax, palette=colors)\n"
     ]
    },
    {
     "data": {
      "image/png": "[encoded data removed]",
      "text/plain": [
       "<Figure size 330.704x172.762 with 1 Axes>"
      ]
     },
     "metadata": {},
     "output_type": "display_data"
    }
   ],
   "source": [
    "fig,ax = plt.subplots(1,1)\n",
    "sns.violinplot(data=df, x=\"version\", y=\"total_energy\", order=[\"1\",\"2\",\"3\"], ax=ax, palette=colors)\n",
    "ax.set_xlabel(\"Version\")\n",
    "ax.set_ylabel(\"Total Energy Used\")\n",
    "plt.savefig(\"figures/game_total_energy.pdf\")\n",
    "# plt.savefig(\"figures/game_total_energy_talk.png\")"
   ]
  },
  {
   "cell_type": "code",
   "execution_count": 53,
   "id": "6c3bca36",
   "metadata": {},
   "outputs": [
    {
     "data": {
      "text/plain": [
       "count      63.000000\n",
       "mean     3262.544559\n",
       "std       497.134247\n",
       "min       809.900000\n",
       "25%      3206.602500\n",
       "50%      3393.800535\n",
       "75%      3497.816815\n",
       "max      3736.712054\n",
       "Name: total_energy, dtype: float64"
      ]
     },
     "metadata": {},
     "output_type": "display_data"
    },
    {
     "data": {
      "text/plain": [
       "count      62.000000\n",
       "mean     3142.400934\n",
       "std       546.484256\n",
       "min      1268.400000\n",
       "25%      2960.500000\n",
       "50%      3293.653351\n",
       "75%      3477.772917\n",
       "max      3959.892091\n",
       "Name: total_energy, dtype: float64"
      ]
     },
     "metadata": {},
     "output_type": "display_data"
    },
    {
     "data": {
      "text/plain": [
       "count      67.000000\n",
       "mean     1928.516872\n",
       "std       277.419640\n",
       "min       370.100000\n",
       "25%      1851.169559\n",
       "50%      1981.483333\n",
       "75%      2093.775566\n",
       "max      2215.990909\n",
       "Name: total_energy, dtype: float64"
      ]
     },
     "metadata": {},
     "output_type": "display_data"
    },
    {
     "data": {
      "text/plain": [
       "Ttest_indResult(statistic=1.2861206282093651, pvalue=0.2008167296086517)"
      ]
     },
     "metadata": {},
     "output_type": "display_data"
    },
    {
     "data": {
      "text/plain": [
       "Ttest_indResult(statistic=19.039969314094815, pvalue=3.727013129333428e-39)"
      ]
     },
     "metadata": {},
     "output_type": "display_data"
    },
    {
     "data": {
      "text/plain": [
       "Ttest_indResult(statistic=16.083077989336413, pvalue=2.0018894585596637e-32)"
      ]
     },
     "metadata": {},
     "output_type": "display_data"
    }
   ],
   "source": [
    "display(df[df[\"version\"] == 1][\"total_energy\"].describe())\n",
    "display(df[df[\"version\"] == 2][\"total_energy\"].describe())\n",
    "display(df[df[\"version\"] == 3][\"total_energy\"].describe())\n",
    "display(stats.ttest_ind(df[df[\"version\"] == 1][\"total_energy\"], df[df[\"version\"] == 2][\"total_energy\"]))\n",
    "display(stats.ttest_ind(df[df[\"version\"] == 1][\"total_energy\"], df[df[\"version\"] == 3][\"total_energy\"]))\n",
    "display(stats.ttest_ind(df[df[\"version\"] == 2][\"total_energy\"], df[df[\"version\"] == 3][\"total_energy\"]))"
   ]
  },
  {
   "cell_type": "code",
   "execution_count": 54,
   "id": "3b5255ec",
   "metadata": {
    "scrolled": true
   },
   "outputs": [
    {
     "name": "stderr",
     "output_type": "stream",
     "text": [
      "/tmp/ipykernel_646/1967740162.py:2: FutureWarning: \n",
      "\n",
      "Passing `palette` without assigning `hue` is deprecated and will be removed in v0.14.0. Assign the `x` variable to `hue` and set `legend=False` for the same effect.\n",
      "\n",
      "  sns.violinplot(data=df, x=\"version\", y=\"jobs_completed\", order=[1,2,3], ax=ax, palette=colors)\n",
      "/tmp/ipykernel_646/1967740162.py:2: UserWarning: The palette list has more values (5) than needed (3), which may not be intended.\n",
      "  sns.violinplot(data=df, x=\"version\", y=\"jobs_completed\", order=[1,2,3], ax=ax, palette=colors)\n"
     ]
    },
    {
     "data": {
      "image/png": "[encoded data removed]",
      "text/plain": [
       "<Figure size 330.704x172.762 with 1 Axes>"
      ]
     },
     "metadata": {},
     "output_type": "display_data"
    }
   ],
   "source": [
    "fig,ax = plt.subplots(1,1)\n",
    "sns.violinplot(data=df, x=\"version\", y=\"jobs_completed\", order=[1,2,3], ax=ax, palette=colors)\n",
    "ax.set_xlabel(\"Version\")\n",
    "ax.set_ylabel(\"Jobs Completed\")\n",
    "plt.savefig(\"figures/game_jobs_completed.pdf\")\n",
    "# plt.savefig(\"figures/game_jobs_completed_talk.png\")"
   ]
  },
  {
   "cell_type": "code",
   "execution_count": 55,
   "id": "f658a76e",
   "metadata": {},
   "outputs": [
    {
     "data": {
      "text/plain": [
       "count    63.000000\n",
       "mean     14.476190\n",
       "std       3.995389\n",
       "min       4.000000\n",
       "25%      12.000000\n",
       "50%      15.000000\n",
       "75%      18.000000\n",
       "max      19.000000\n",
       "Name: jobs_completed, dtype: float64"
      ]
     },
     "metadata": {},
     "output_type": "display_data"
    },
    {
     "data": {
      "text/plain": [
       "count    62.000000\n",
       "mean     14.887097\n",
       "std       4.020867\n",
       "min       6.000000\n",
       "25%      12.000000\n",
       "50%      16.000000\n",
       "75%      19.000000\n",
       "max      20.000000\n",
       "Name: jobs_completed, dtype: float64"
      ]
     },
     "metadata": {},
     "output_type": "display_data"
    },
    {
     "data": {
      "text/plain": [
       "count    67.000000\n",
       "mean      9.686567\n",
       "std       2.919158\n",
       "min       5.000000\n",
       "25%       7.000000\n",
       "50%       9.000000\n",
       "75%      11.500000\n",
       "max      17.000000\n",
       "Name: jobs_completed, dtype: float64"
      ]
     },
     "metadata": {},
     "output_type": "display_data"
    },
    {
     "data": {
      "text/plain": [
       "Ttest_indResult(statistic=-0.5730880496252491, pvalue=0.5676313092764956)"
      ]
     },
     "metadata": {},
     "output_type": "display_data"
    },
    {
     "data": {
      "text/plain": [
       "Ttest_indResult(statistic=7.8375078686067505, pvalue=1.5507776426703238e-12)"
      ]
     },
     "metadata": {},
     "output_type": "display_data"
    },
    {
     "data": {
      "text/plain": [
       "Ttest_indResult(statistic=8.451121179172661, pvalue=5.753422091040446e-14)"
      ]
     },
     "metadata": {},
     "output_type": "display_data"
    }
   ],
   "source": [
    "display(df[df[\"version\"] == 1][\"jobs_completed\"].describe())\n",
    "display(df[df[\"version\"] == 2][\"jobs_completed\"].describe())\n",
    "display(df[df[\"version\"] == 3][\"jobs_completed\"].describe())\n",
    "display(stats.ttest_ind(df[df[\"version\"] == 1][\"jobs_completed\"], df[df[\"version\"] == 2][\"jobs_completed\"]))\n",
    "display(stats.ttest_ind(df[df[\"version\"] == 1][\"jobs_completed\"], df[df[\"version\"] == 3][\"jobs_completed\"]))\n",
    "display(stats.ttest_ind(df[df[\"version\"] == 2][\"jobs_completed\"], df[df[\"version\"] == 3][\"jobs_completed\"]))"
   ]
  },
  {
   "cell_type": "code",
   "execution_count": 56,
   "id": "bebe4533",
   "metadata": {},
   "outputs": [
    {
     "data": {
      "text/plain": [
       "<seaborn.axisgrid.FacetGrid at 0x7f96918be740>"
      ]
     },
     "execution_count": 56,
     "metadata": {},
     "output_type": "execute_result"
    },
    {
     "data": {
      "image/png": "[encoded data removed]",
      "text/plain": [
       "<Figure size 614.778x500 with 1 Axes>"
      ]
     },
     "metadata": {},
     "output_type": "display_data"
    }
   ],
   "source": [
    "sns.catplot(data=df, x=\"version\", y=\"timeLeft\", order=[\"1\",\"2\",\"3\"], hue=\"jobs_completed\")"
   ]
  },
  {
   "cell_type": "code",
   "execution_count": 57,
   "id": "ef7fe3f5",
   "metadata": {},
   "outputs": [
    {
     "data": {
      "image/png": "[encoded data removed]",
      "text/plain": [
       "<Figure size 330.704x172.762 with 1 Axes>"
      ]
     },
     "metadata": {},
     "output_type": "display_data"
    }
   ],
   "source": [
    "fig,ax = plt.subplots(1,1)\n",
    "# sns.scatterplot(data=df, x=\"jobs_completed\", y=\"energy_per_job\", hue=\"version\", ax=ax)\n",
    "sns.regplot(data=df[df[\"version\"] == 1], x=\"jobs_completed\", y=\"total_energy\", color=colors[0], label=\"Version 1\", ax=ax)\n",
    "sns.regplot(data=df[df[\"version\"] == 2], x=\"jobs_completed\", y=\"total_energy\", color=colors[1], label=\"Version 2\", ax=ax)\n",
    "sns.regplot(data=df[df[\"version\"] == 3], x=\"jobs_completed\", y=\"total_energy\", color=colors[2], label=\"Version 3\",  ax=ax)\n",
    "plt.legend(loc=\"lower right\")\n",
    "ax.set_xlabel(\"Jobs Completed\")\n",
    "ax.set_ylabel(\"Total Energy Used\")\n",
    "plt.savefig(\"figures/energy_used_by_jobs_completed.pdf\")\n",
    "# plt.savefig(\"figures/energy_used_by_jobs_completed_talk.png\")"
   ]
  },
  {
   "cell_type": "code",
   "execution_count": 19,
   "id": "73fccc20",
   "metadata": {},
   "outputs": [
    {
     "data": {
      "text/html": [
       "<table class=\"simpletable\">\n",
       "<caption>OLS Regression Results</caption>\n",
       "<tr>\n",
       "  <th>Dep. Variable:</th>      <td>total_energy</td>   <th>  R-squared:         </th> <td>   0.615</td>\n",
       "</tr>\n",
       "<tr>\n",
       "  <th>Model:</th>                   <td>OLS</td>       <th>  Adj. R-squared:    </th> <td>   0.611</td>\n",
       "</tr>\n",
       "<tr>\n",
       "  <th>Method:</th>             <td>Least Squares</td>  <th>  F-statistic:       </th> <td>   150.8</td>\n",
       "</tr>\n",
       "<tr>\n",
       "  <th>Date:</th>             <td>Fri, 31 Jan 2025</td> <th>  Prob (F-statistic):</th> <td>7.20e-40</td>\n",
       "</tr>\n",
       "<tr>\n",
       "  <th>Time:</th>                 <td>11:37:40</td>     <th>  Log-Likelihood:    </th> <td> -1453.6</td>\n",
       "</tr>\n",
       "<tr>\n",
       "  <th>No. Observations:</th>      <td>   192</td>      <th>  AIC:               </th> <td>   2913.</td>\n",
       "</tr>\n",
       "<tr>\n",
       "  <th>Df Residuals:</th>          <td>   189</td>      <th>  BIC:               </th> <td>   2923.</td>\n",
       "</tr>\n",
       "<tr>\n",
       "  <th>Df Model:</th>              <td>     2</td>      <th>                     </th>     <td> </td>   \n",
       "</tr>\n",
       "<tr>\n",
       "  <th>Covariance Type:</th>      <td>nonrobust</td>    <th>                     </th>     <td> </td>   \n",
       "</tr>\n",
       "</table>\n",
       "<table class=\"simpletable\">\n",
       "<tr>\n",
       "         <td></td>           <th>coef</th>     <th>std err</th>      <th>t</th>      <th>P>|t|</th>  <th>[0.025</th>    <th>0.975]</th>  \n",
       "</tr>\n",
       "<tr>\n",
       "  <th>Intercept</th>      <td> 3128.2952</td> <td>  181.802</td> <td>   17.207</td> <td> 0.000</td> <td> 2769.673</td> <td> 3486.917</td>\n",
       "</tr>\n",
       "<tr>\n",
       "  <th>version</th>        <td> -538.1142</td> <td>   46.725</td> <td>  -11.517</td> <td> 0.000</td> <td> -630.284</td> <td> -445.945</td>\n",
       "</tr>\n",
       "<tr>\n",
       "  <th>jobs_completed</th> <td>   55.4490</td> <td>    8.838</td> <td>    6.274</td> <td> 0.000</td> <td>   38.015</td> <td>   72.883</td>\n",
       "</tr>\n",
       "</table>\n",
       "<table class=\"simpletable\">\n",
       "<tr>\n",
       "  <th>Omnibus:</th>       <td>32.071</td> <th>  Durbin-Watson:     </th> <td>   1.864</td>\n",
       "</tr>\n",
       "<tr>\n",
       "  <th>Prob(Omnibus):</th> <td> 0.000</td> <th>  Jarque-Bera (JB):  </th> <td>  69.996</td>\n",
       "</tr>\n",
       "<tr>\n",
       "  <th>Skew:</th>          <td>-0.763</td> <th>  Prob(JB):          </th> <td>6.32e-16</td>\n",
       "</tr>\n",
       "<tr>\n",
       "  <th>Kurtosis:</th>      <td> 5.534</td> <th>  Cond. No.          </th> <td>    75.1</td>\n",
       "</tr>\n",
       "</table><br/><br/>Notes:<br/>[1] Standard Errors assume that the covariance matrix of the errors is correctly specified."
      ],
      "text/latex": [
       "\\begin{center}\n",
       "\\begin{tabular}{lclc}\n",
       "\\toprule\n",
       "\\textbf{Dep. Variable:}    &  total\\_energy   & \\textbf{  R-squared:         } &     0.615   \\\\\n",
       "\\textbf{Model:}            &       OLS        & \\textbf{  Adj. R-squared:    } &     0.611   \\\\\n",
       "\\textbf{Method:}           &  Least Squares   & \\textbf{  F-statistic:       } &     150.8   \\\\\n",
       "\\textbf{Date:}             & Fri, 31 Jan 2025 & \\textbf{  Prob (F-statistic):} &  7.20e-40   \\\\\n",
       "\\textbf{Time:}             &     11:37:40     & \\textbf{  Log-Likelihood:    } &   -1453.6   \\\\\n",
       "\\textbf{No. Observations:} &         192      & \\textbf{  AIC:               } &     2913.   \\\\\n",
       "\\textbf{Df Residuals:}     &         189      & \\textbf{  BIC:               } &     2923.   \\\\\n",
       "\\textbf{Df Model:}         &           2      & \\textbf{                     } &             \\\\\n",
       "\\textbf{Covariance Type:}  &    nonrobust     & \\textbf{                     } &             \\\\\n",
       "\\bottomrule\n",
       "\\end{tabular}\n",
       "\\begin{tabular}{lcccccc}\n",
       "                         & \\textbf{coef} & \\textbf{std err} & \\textbf{t} & \\textbf{P$> |$t$|$} & \\textbf{[0.025} & \\textbf{0.975]}  \\\\\n",
       "\\midrule\n",
       "\\textbf{Intercept}       &    3128.2952  &      181.802     &    17.207  &         0.000        &     2769.673    &     3486.917     \\\\\n",
       "\\textbf{version}         &    -538.1142  &       46.725     &   -11.517  &         0.000        &     -630.284    &     -445.945     \\\\\n",
       "\\textbf{jobs\\_completed} &      55.4490  &        8.838     &     6.274  &         0.000        &       38.015    &       72.883     \\\\\n",
       "\\bottomrule\n",
       "\\end{tabular}\n",
       "\\begin{tabular}{lclc}\n",
       "\\textbf{Omnibus:}       & 32.071 & \\textbf{  Durbin-Watson:     } &    1.864  \\\\\n",
       "\\textbf{Prob(Omnibus):} &  0.000 & \\textbf{  Jarque-Bera (JB):  } &   69.996  \\\\\n",
       "\\textbf{Skew:}          & -0.763 & \\textbf{  Prob(JB):          } & 6.32e-16  \\\\\n",
       "\\textbf{Kurtosis:}      &  5.534 & \\textbf{  Cond. No.          } &     75.1  \\\\\n",
       "\\bottomrule\n",
       "\\end{tabular}\n",
       "%\\caption{OLS Regression Results}\n",
       "\\end{center}\n",
       "\n",
       "Notes: \\newline\n",
       " [1] Standard Errors assume that the covariance matrix of the errors is correctly specified."
      ],
      "text/plain": [
       "<class 'statsmodels.iolib.summary.Summary'>\n",
       "\"\"\"\n",
       "                            OLS Regression Results                            \n",
       "==============================================================================\n",
       "Dep. Variable:           total_energy   R-squared:                       0.615\n",
       "Model:                            OLS   Adj. R-squared:                  0.611\n",
       "Method:                 Least Squares   F-statistic:                     150.8\n",
       "Date:                Fri, 31 Jan 2025   Prob (F-statistic):           7.20e-40\n",
       "Time:                        11:37:40   Log-Likelihood:                -1453.6\n",
       "No. Observations:                 192   AIC:                             2913.\n",
       "Df Residuals:                     189   BIC:                             2923.\n",
       "Df Model:                           2                                         \n",
       "Covariance Type:            nonrobust                                         \n",
       "==================================================================================\n",
       "                     coef    std err          t      P>|t|      [0.025      0.975]\n",
       "----------------------------------------------------------------------------------\n",
       "Intercept       3128.2952    181.802     17.207      0.000    2769.673    3486.917\n",
       "version         -538.1142     46.725    -11.517      0.000    -630.284    -445.945\n",
       "jobs_completed    55.4490      8.838      6.274      0.000      38.015      72.883\n",
       "==============================================================================\n",
       "Omnibus:                       32.071   Durbin-Watson:                   1.864\n",
       "Prob(Omnibus):                  0.000   Jarque-Bera (JB):               69.996\n",
       "Skew:                          -0.763   Prob(JB):                     6.32e-16\n",
       "Kurtosis:                       5.534   Cond. No.                         75.1\n",
       "==============================================================================\n",
       "\n",
       "Notes:\n",
       "[1] Standard Errors assume that the covariance matrix of the errors is correctly specified.\n",
       "\"\"\""
      ]
     },
     "execution_count": 19,
     "metadata": {},
     "output_type": "execute_result"
    }
   ],
   "source": [
    "model = ols('total_energy ~ version + jobs_completed', data=df).fit()\n",
    "model.summary()"
   ]
  },
  {
   "cell_type": "code",
   "execution_count": 20,
   "id": "2256703f",
   "metadata": {},
   "outputs": [
    {
     "data": {
      "text/plain": [
       "Ttest_indResult(statistic=nan, pvalue=nan)"
      ]
     },
     "execution_count": 20,
     "metadata": {},
     "output_type": "execute_result"
    }
   ],
   "source": [
    "stats.ttest_ind(df[df[\"version\"] == \"1\"][\"energy_per_job\"], df[df[\"version\"] == \"2\"][\"energy_per_job\"])"
   ]
  },
  {
   "cell_type": "code",
   "execution_count": 21,
   "id": "b0dfd342",
   "metadata": {},
   "outputs": [
    {
     "data": {
      "text/plain": [
       "Ttest_indResult(statistic=nan, pvalue=nan)"
      ]
     },
     "execution_count": 21,
     "metadata": {},
     "output_type": "execute_result"
    }
   ],
   "source": [
    "stats.ttest_ind(df[df[\"version\"] == \"1\"][\"energy_per_job\"], df[df[\"version\"] == \"3\"][\"energy_per_job\"])"
   ]
  },
  {
   "cell_type": "code",
   "execution_count": 22,
   "id": "c502f6c1",
   "metadata": {},
   "outputs": [
    {
     "data": {
      "text/plain": [
       "Ttest_indResult(statistic=nan, pvalue=nan)"
      ]
     },
     "execution_count": 22,
     "metadata": {},
     "output_type": "execute_result"
    }
   ],
   "source": [
    "stats.ttest_ind(df[df[\"version\"] == \"2\"][\"energy_per_job\"], df[df[\"version\"] == \"3\"][\"energy_per_job\"])"
   ]
  },
  {
   "cell_type": "code",
   "execution_count": 23,
   "id": "7807d02f",
   "metadata": {},
   "outputs": [
    {
     "data": {
      "text/plain": [
       "<seaborn.axisgrid.FacetGrid at 0x7f96944cdc00>"
      ]
     },
     "execution_count": 23,
     "metadata": {},
     "output_type": "execute_result"
    },
    {
     "data": {
      "image/png": "[encoded data removed]",
      "text/plain": [
       "<Figure size 509.778x500 with 1 Axes>"
      ]
     },
     "metadata": {},
     "output_type": "display_data"
    }
   ],
   "source": [
    "sns.catplot(data=df, x=\"version\", y=\"energy_per_job\", order=[\"1\",\"2\",\"3\"])"
   ]
  },
  {
   "cell_type": "code",
   "execution_count": 24,
   "id": "b7a78259",
   "metadata": {},
   "outputs": [
    {
     "data": {
      "text/plain": [
       "Ttest_indResult(statistic=nan, pvalue=nan)"
      ]
     },
     "execution_count": 24,
     "metadata": {},
     "output_type": "execute_result"
    }
   ],
   "source": [
    "stats.ttest_ind(df[df[\"version\"] == \"1\"][\"energy_per_time\"], df[df[\"version\"] == \"3\"][\"energy_per_time\"])"
   ]
  },
  {
   "cell_type": "code",
   "execution_count": 25,
   "id": "538e443b",
   "metadata": {},
   "outputs": [
    {
     "data": {
      "text/plain": [
       "Ttest_indResult(statistic=nan, pvalue=nan)"
      ]
     },
     "execution_count": 25,
     "metadata": {},
     "output_type": "execute_result"
    }
   ],
   "source": [
    "stats.ttest_ind(df[df[\"version\"] == \"2\"][\"energy_per_time\"], df[df[\"version\"] == \"3\"][\"energy_per_time\"])"
   ]
  },
  {
   "cell_type": "code",
   "execution_count": 26,
   "id": "656289d0",
   "metadata": {},
   "outputs": [],
   "source": [
    "play_2 = df[df[\"plays\"] == 2].set_index(\"userID\")\n",
    "play_3 = df[df[\"plays\"] == 3].set_index(\"userID\")\n",
    "play_3 = play_3[[\"version\", \"jobs_completed\", \"total_energy\", \"energy_per_job\"]]\n",
    "within_subsets = play_2.join(play_3, how=\"inner\", rsuffix=\"_v2\")"
   ]
  },
  {
   "cell_type": "code",
   "execution_count": 27,
   "id": "d6feb5e7",
   "metadata": {},
   "outputs": [],
   "source": [
    "within_subsets[\"energy_change\"] = within_subsets[\"total_energy_v2\"] - within_subsets[\"total_energy\"]\n",
    "within_subsets[\"energy_per_job_change\"] = within_subsets[\"energy_per_job_v2\"] - within_subsets[\"energy_per_job\"]"
   ]
  },
  {
   "cell_type": "code",
   "execution_count": 28,
   "id": "02341b2b",
   "metadata": {},
   "outputs": [
    {
     "data": {
      "text/plain": [
       "<Axes: xlabel='group', ylabel='energy_change'>"
      ]
     },
     "execution_count": 28,
     "metadata": {},
     "output_type": "execute_result"
    },
    {
     "data": {
      "image/png": "[encoded data removed]",
      "text/plain": [
       "<Figure size 330.704x172.762 with 1 Axes>"
      ]
     },
     "metadata": {},
     "output_type": "display_data"
    }
   ],
   "source": [
    "sns.barplot(data=within_subsets, x=\"group\", y=\"energy_change\")"
   ]
  },
  {
   "cell_type": "code",
   "execution_count": 29,
   "id": "147c9671",
   "metadata": {},
   "outputs": [
    {
     "data": {
      "text/plain": [
       "<Axes: xlabel='group', ylabel='energy_per_job_change'>"
      ]
     },
     "execution_count": 29,
     "metadata": {},
     "output_type": "execute_result"
    },
    {
     "data": {
      "image/png": "[encoded data removed]",
      "text/plain": [
       "<Figure size 330.704x172.762 with 1 Axes>"
      ]
     },
     "metadata": {},
     "output_type": "display_data"
    }
   ],
   "source": [
    "sns.barplot(data=within_subsets, x=\"group\", y=\"energy_per_job_change\", errorbar=\"ci\")"
   ]
  },
  {
   "cell_type": "code",
   "execution_count": 30,
   "id": "656a17a6",
   "metadata": {},
   "outputs": [],
   "source": [
    "group_map = {\n",
    "    0: \"v1 to v2\",\n",
    "    1: \"v1 to v2\",\n",
    "    2: \"v1 to v3\",\n",
    "    3: \"v1 to v3\",\n",
    "    4: \"v2 to v3\",\n",
    "    5: \"v2 to v3\"\n",
    "}\n",
    "\n",
    "within_subsets[\"group_adj\"] = within_subsets[\"group\"].apply(lambda x : group_map[x])\n",
    "within_subsets[\"energy_change_adj\"] = within_subsets[[\"group\", \"energy_change\"]].apply(lambda x : x[1] if x[0] % 2 == 0 else (-1*x[1]), axis=1)\n",
    "within_subsets[\"energy_per_job_change_adj\"] = within_subsets[[\"group\", \"energy_per_job_change\"]].apply(lambda x : x[1] if x[0] % 2 == 0 else (-1*x[1]), axis=1)"
   ]
  },
  {
   "cell_type": "code",
   "execution_count": 31,
   "id": "e179c7f6",
   "metadata": {},
   "outputs": [
    {
     "data": {
      "text/plain": [
       "Text(0, 0.5, 'Change in Average Energy Used')"
      ]
     },
     "execution_count": 31,
     "metadata": {},
     "output_type": "execute_result"
    },
    {
     "data": {
      "image/png": "[encoded data removed]",
      "text/plain": [
       "<Figure size 330.704x172.762 with 1 Axes>"
      ]
     },
     "metadata": {},
     "output_type": "display_data"
    }
   ],
   "source": [
    "fig, ax = plt.subplots(1,1)\n",
    "sns.barplot(data=within_subsets, x=\"group_adj\", y=\"energy_per_job_change_adj\", ax=ax)\n",
    "ax.set_xlabel(\"Treatment Group\")\n",
    "ax.set_ylabel(\"Change in Average Energy Used\")"
   ]
  },
  {
   "cell_type": "code",
   "execution_count": 32,
   "id": "803e3e03",
   "metadata": {},
   "outputs": [
    {
     "data": {
      "text/plain": [
       "TtestResult(statistic=-1.31943733690129, pvalue=0.205593233785188, df=16)"
      ]
     },
     "execution_count": 32,
     "metadata": {},
     "output_type": "execute_result"
    }
   ],
   "source": [
    "stats.ttest_1samp(within_subsets[within_subsets[\"group_adj\"] == \"v1 to v3\"][\"energy_per_job_change_adj\"], popmean=0)"
   ]
  },
  {
   "cell_type": "code",
   "execution_count": 33,
   "id": "6875a69c",
   "metadata": {},
   "outputs": [
    {
     "data": {
      "text/plain": [
       "TtestResult(statistic=-2.336442799154148, pvalue=0.030574882351027975, df=19)"
      ]
     },
     "execution_count": 33,
     "metadata": {},
     "output_type": "execute_result"
    }
   ],
   "source": [
    "stats.ttest_1samp(within_subsets[within_subsets[\"group_adj\"] == \"v1 to v2\"][\"energy_per_job_change_adj\"], popmean=0)"
   ]
  },
  {
   "cell_type": "code",
   "execution_count": 34,
   "id": "faa63b75",
   "metadata": {},
   "outputs": [
    {
     "data": {
      "text/plain": [
       "(58, 27)"
      ]
     },
     "execution_count": 34,
     "metadata": {},
     "output_type": "execute_result"
    }
   ],
   "source": [
    "within_subsets.shape"
   ]
  },
  {
   "cell_type": "code",
   "execution_count": 35,
   "id": "2e0b75ed",
   "metadata": {},
   "outputs": [
    {
     "ename": "AttributeError",
     "evalue": "'str' object has no attribute 'items'",
     "output_type": "error",
     "traceback": [
      "\u001b[0;31m---------------------------------------------------------------------------\u001b[0m",
      "\u001b[0;31mAttributeError\u001b[0m                            Traceback (most recent call last)",
      "Cell \u001b[0;32mIn[35], line 54\u001b[0m\n\u001b[1;32m     50\u001b[0m                     \u001b[38;5;28;01mreturn\u001b[39;00m \u001b[38;5;28;01mFalse\u001b[39;00m\n\u001b[1;32m     52\u001b[0m     \u001b[38;5;28;01mreturn\u001b[39;00m \u001b[38;5;28;01mTrue\u001b[39;00m\n\u001b[0;32m---> 54\u001b[0m df[\u001b[38;5;124m\"\u001b[39m\u001b[38;5;124mout_of_allocation\u001b[39m\u001b[38;5;124m\"\u001b[39m] \u001b[38;5;241m=\u001b[39m \u001b[43mdf\u001b[49m\u001b[38;5;241;43m.\u001b[39;49m\u001b[43mapply\u001b[49m\u001b[43m(\u001b[49m\u001b[43mis_out_of_allocation\u001b[49m\u001b[43m,\u001b[49m\u001b[43m \u001b[49m\u001b[43maxis\u001b[49m\u001b[38;5;241;43m=\u001b[39;49m\u001b[38;5;241;43m1\u001b[39;49m\u001b[43m)\u001b[49m\n\u001b[1;32m     55\u001b[0m df[\u001b[38;5;124m\"\u001b[39m\u001b[38;5;124mout_of_time\u001b[39m\u001b[38;5;124m\"\u001b[39m] \u001b[38;5;241m=\u001b[39m df\u001b[38;5;241m.\u001b[39mapply(is_out_of_time, axis\u001b[38;5;241m=\u001b[39m\u001b[38;5;241m1\u001b[39m)\n\u001b[1;32m     56\u001b[0m df\n",
      "File \u001b[0;32m~/miniconda3/lib/python3.10/site-packages/pandas/core/frame.py:9568\u001b[0m, in \u001b[0;36mDataFrame.apply\u001b[0;34m(self, func, axis, raw, result_type, args, **kwargs)\u001b[0m\n\u001b[1;32m   9557\u001b[0m \u001b[38;5;28;01mfrom\u001b[39;00m \u001b[38;5;21;01mpandas\u001b[39;00m\u001b[38;5;21;01m.\u001b[39;00m\u001b[38;5;21;01mcore\u001b[39;00m\u001b[38;5;21;01m.\u001b[39;00m\u001b[38;5;21;01mapply\u001b[39;00m \u001b[38;5;28;01mimport\u001b[39;00m frame_apply\n\u001b[1;32m   9559\u001b[0m op \u001b[38;5;241m=\u001b[39m frame_apply(\n\u001b[1;32m   9560\u001b[0m     \u001b[38;5;28mself\u001b[39m,\n\u001b[1;32m   9561\u001b[0m     func\u001b[38;5;241m=\u001b[39mfunc,\n\u001b[0;32m   (...)\u001b[0m\n\u001b[1;32m   9566\u001b[0m     kwargs\u001b[38;5;241m=\u001b[39mkwargs,\n\u001b[1;32m   9567\u001b[0m )\n\u001b[0;32m-> 9568\u001b[0m \u001b[38;5;28;01mreturn\u001b[39;00m \u001b[43mop\u001b[49m\u001b[38;5;241;43m.\u001b[39;49m\u001b[43mapply\u001b[49m\u001b[43m(\u001b[49m\u001b[43m)\u001b[49m\u001b[38;5;241m.\u001b[39m__finalize__(\u001b[38;5;28mself\u001b[39m, method\u001b[38;5;241m=\u001b[39m\u001b[38;5;124m\"\u001b[39m\u001b[38;5;124mapply\u001b[39m\u001b[38;5;124m\"\u001b[39m)\n",
      "File \u001b[0;32m~/miniconda3/lib/python3.10/site-packages/pandas/core/apply.py:764\u001b[0m, in \u001b[0;36mFrameApply.apply\u001b[0;34m(self)\u001b[0m\n\u001b[1;32m    761\u001b[0m \u001b[38;5;28;01melif\u001b[39;00m \u001b[38;5;28mself\u001b[39m\u001b[38;5;241m.\u001b[39mraw:\n\u001b[1;32m    762\u001b[0m     \u001b[38;5;28;01mreturn\u001b[39;00m \u001b[38;5;28mself\u001b[39m\u001b[38;5;241m.\u001b[39mapply_raw()\n\u001b[0;32m--> 764\u001b[0m \u001b[38;5;28;01mreturn\u001b[39;00m \u001b[38;5;28;43mself\u001b[39;49m\u001b[38;5;241;43m.\u001b[39;49m\u001b[43mapply_standard\u001b[49m\u001b[43m(\u001b[49m\u001b[43m)\u001b[49m\n",
      "File \u001b[0;32m~/miniconda3/lib/python3.10/site-packages/pandas/core/apply.py:891\u001b[0m, in \u001b[0;36mFrameApply.apply_standard\u001b[0;34m(self)\u001b[0m\n\u001b[1;32m    890\u001b[0m \u001b[38;5;28;01mdef\u001b[39;00m \u001b[38;5;21mapply_standard\u001b[39m(\u001b[38;5;28mself\u001b[39m):\n\u001b[0;32m--> 891\u001b[0m     results, res_index \u001b[38;5;241m=\u001b[39m \u001b[38;5;28;43mself\u001b[39;49m\u001b[38;5;241;43m.\u001b[39;49m\u001b[43mapply_series_generator\u001b[49m\u001b[43m(\u001b[49m\u001b[43m)\u001b[49m\n\u001b[1;32m    893\u001b[0m     \u001b[38;5;66;03m# wrap results\u001b[39;00m\n\u001b[1;32m    894\u001b[0m     \u001b[38;5;28;01mreturn\u001b[39;00m \u001b[38;5;28mself\u001b[39m\u001b[38;5;241m.\u001b[39mwrap_results(results, res_index)\n",
      "File \u001b[0;32m~/miniconda3/lib/python3.10/site-packages/pandas/core/apply.py:907\u001b[0m, in \u001b[0;36mFrameApply.apply_series_generator\u001b[0;34m(self)\u001b[0m\n\u001b[1;32m    904\u001b[0m \u001b[38;5;28;01mwith\u001b[39;00m option_context(\u001b[38;5;124m\"\u001b[39m\u001b[38;5;124mmode.chained_assignment\u001b[39m\u001b[38;5;124m\"\u001b[39m, \u001b[38;5;28;01mNone\u001b[39;00m):\n\u001b[1;32m    905\u001b[0m     \u001b[38;5;28;01mfor\u001b[39;00m i, v \u001b[38;5;129;01min\u001b[39;00m \u001b[38;5;28menumerate\u001b[39m(series_gen):\n\u001b[1;32m    906\u001b[0m         \u001b[38;5;66;03m# ignore SettingWithCopy here in case the user mutates\u001b[39;00m\n\u001b[0;32m--> 907\u001b[0m         results[i] \u001b[38;5;241m=\u001b[39m \u001b[38;5;28;43mself\u001b[39;49m\u001b[38;5;241;43m.\u001b[39;49m\u001b[43mf\u001b[49m\u001b[43m(\u001b[49m\u001b[43mv\u001b[49m\u001b[43m)\u001b[49m\n\u001b[1;32m    908\u001b[0m         \u001b[38;5;28;01mif\u001b[39;00m \u001b[38;5;28misinstance\u001b[39m(results[i], ABCSeries):\n\u001b[1;32m    909\u001b[0m             \u001b[38;5;66;03m# If we have a view on v, we need to make a copy because\u001b[39;00m\n\u001b[1;32m    910\u001b[0m             \u001b[38;5;66;03m#  series_generator will swap out the underlying data\u001b[39;00m\n\u001b[1;32m    911\u001b[0m             results[i] \u001b[38;5;241m=\u001b[39m results[i]\u001b[38;5;241m.\u001b[39mcopy(deep\u001b[38;5;241m=\u001b[39m\u001b[38;5;28;01mFalse\u001b[39;00m)\n",
      "Cell \u001b[0;32mIn[35], line 3\u001b[0m, in \u001b[0;36mis_out_of_allocation\u001b[0;34m(user)\u001b[0m\n\u001b[1;32m      1\u001b[0m \u001b[38;5;28;01mdef\u001b[39;00m \u001b[38;5;21mis_out_of_allocation\u001b[39m(user):\n\u001b[1;32m      2\u001b[0m     job_remaining \u001b[38;5;241m=\u001b[39m [\u001b[38;5;28;01mTrue\u001b[39;00m \u001b[38;5;28;01mfor\u001b[39;00m j \u001b[38;5;129;01min\u001b[39;00m jobs]\n\u001b[0;32m----> 3\u001b[0m     \u001b[38;5;28;01mfor\u001b[39;00m timestep, decisions \u001b[38;5;129;01min\u001b[39;00m \u001b[43muser\u001b[49m\u001b[38;5;241;43m.\u001b[39;49m\u001b[43mscheduling_decisions\u001b[49m\u001b[38;5;241;43m.\u001b[39;49m\u001b[43mitems\u001b[49m():\n\u001b[1;32m      4\u001b[0m         \u001b[38;5;28;01mfor\u001b[39;00m machine, job_prop \u001b[38;5;129;01min\u001b[39;00m decisions\u001b[38;5;241m.\u001b[39mitems():\n\u001b[1;32m      5\u001b[0m             \u001b[38;5;28;01mif\u001b[39;00m job_prop[\u001b[38;5;241m1\u001b[39m] \u001b[38;5;241m==\u001b[39m \u001b[38;5;241m1\u001b[39m:\n",
      "\u001b[0;31mAttributeError\u001b[0m: 'str' object has no attribute 'items'"
     ]
    }
   ],
   "source": [
    "def is_out_of_allocation(user):\n",
    "    job_remaining = [True for j in jobs]\n",
    "    for timestep, decisions in user.scheduling_decisions.items():\n",
    "        for machine, job_prop in decisions.items():\n",
    "            if job_prop[1] == 1:\n",
    "                job_remaining[int(job_prop[0])] = False\n",
    "    \n",
    "    machines_available = set(machine_list.keys())\n",
    "    for timestep, decisions in user.scheduling_decisions.items():\n",
    "        for machine, job_prop in decisions.items():\n",
    "            if job_prop[1] != 1:\n",
    "                machines_available.remove(machine)\n",
    "        break\n",
    "        \n",
    "    for job, remaining in zip(jobs, job_remaining):\n",
    "        if remaining:\n",
    "            # TODO: Check if machine is available\n",
    "            for machine, resources in job[\"resources\"].items():\n",
    "                if machine not in machines_available:\n",
    "                    break\n",
    "                    \n",
    "                if user[\"version\"] != '3':\n",
    "                    if resources[\"runtime\"] < user[\"allocation\"]:\n",
    "                        return False\n",
    "                else:\n",
    "                    if energy_cost(machine, job) < user[\"allocation\"]:\n",
    "                        return False\n",
    "            \n",
    "    return True\n",
    "\n",
    "def is_out_of_time(user):\n",
    "    job_remaining = [True for j in jobs]\n",
    "    for timestep, decisions in user.scheduling_decisions.items():\n",
    "        for machine, job_prop in decisions.items():\n",
    "            if job_prop[1] == 1:\n",
    "                job_remaining[int(job_prop[0])] = False\n",
    "    \n",
    "    machines_available = set(machine_list.keys())\n",
    "    for timestep, decisions in user.scheduling_decisions.items():\n",
    "        for machine, job_prop in decisions.items():\n",
    "            if job_prop[1] != 1:\n",
    "                machines_available.remove(machine)\n",
    "        break\n",
    "        \n",
    "    for job, remaining in zip(jobs, job_remaining):\n",
    "        if remaining:\n",
    "            # TODO: Check if machine is available\n",
    "            for machine, resources in job[\"resources\"].items():\n",
    "                if machine in machines_available and resources[\"runtime\"] < user[\"timeLeft\"]:\n",
    "                    return False\n",
    "            \n",
    "    return True\n",
    "\n",
    "df[\"out_of_allocation\"] = df.apply(is_out_of_allocation, axis=1)\n",
    "df[\"out_of_time\"] = df.apply(is_out_of_time, axis=1)\n",
    "df"
   ]
  },
  {
   "cell_type": "code",
   "execution_count": null,
   "id": "05b86d83",
   "metadata": {},
   "outputs": [],
   "source": [
    "sns.catplot(data=df[df[\"out_of_time\"] == True], x=\"version\", y=\"energy_per_job\", order=[\"1\",\"2\",\"3\"])"
   ]
  },
  {
   "cell_type": "code",
   "execution_count": 36,
   "id": "63a1242e",
   "metadata": {
    "scrolled": true
   },
   "outputs": [
    {
     "data": {
      "text/html": [
       "<div>\n",
       "<style scoped>\n",
       "    .dataframe tbody tr th:only-of-type {\n",
       "        vertical-align: middle;\n",
       "    }\n",
       "\n",
       "    .dataframe tbody tr th {\n",
       "        vertical-align: top;\n",
       "    }\n",
       "\n",
       "    .dataframe thead th {\n",
       "        text-align: right;\n",
       "    }\n",
       "</style>\n",
       "<table border=\"1\" class=\"dataframe\">\n",
       "  <thead>\n",
       "    <tr style=\"text-align: right;\">\n",
       "      <th></th>\n",
       "      <th>0</th>\n",
       "      <th>1</th>\n",
       "      <th>2</th>\n",
       "      <th>3</th>\n",
       "      <th>4</th>\n",
       "      <th>5</th>\n",
       "      <th>6</th>\n",
       "      <th>7</th>\n",
       "      <th>8</th>\n",
       "      <th>9</th>\n",
       "      <th>...</th>\n",
       "      <th>12</th>\n",
       "      <th>13</th>\n",
       "      <th>14</th>\n",
       "      <th>15</th>\n",
       "      <th>16</th>\n",
       "      <th>17</th>\n",
       "      <th>18</th>\n",
       "      <th>19</th>\n",
       "      <th>version</th>\n",
       "      <th>job_idx</th>\n",
       "    </tr>\n",
       "  </thead>\n",
       "  <tbody>\n",
       "    <tr>\n",
       "      <th>0</th>\n",
       "      <td>123.4</td>\n",
       "      <td>299.8</td>\n",
       "      <td>71.3</td>\n",
       "      <td>147.0</td>\n",
       "      <td>96.7</td>\n",
       "      <td>80.0</td>\n",
       "      <td>NaN</td>\n",
       "      <td>NaN</td>\n",
       "      <td>NaN</td>\n",
       "      <td>399.7</td>\n",
       "      <td>...</td>\n",
       "      <td>355.4</td>\n",
       "      <td>78.8</td>\n",
       "      <td>NaN</td>\n",
       "      <td>NaN</td>\n",
       "      <td>NaN</td>\n",
       "      <td>NaN</td>\n",
       "      <td>NaN</td>\n",
       "      <td>NaN</td>\n",
       "      <td>1.0</td>\n",
       "      <td>16.0</td>\n",
       "    </tr>\n",
       "    <tr>\n",
       "      <th>1</th>\n",
       "      <td>191.6</td>\n",
       "      <td>299.8</td>\n",
       "      <td>71.3</td>\n",
       "      <td>147.0</td>\n",
       "      <td>96.7</td>\n",
       "      <td>455.8</td>\n",
       "      <td>96.0</td>\n",
       "      <td>419.9</td>\n",
       "      <td>NaN</td>\n",
       "      <td>NaN</td>\n",
       "      <td>...</td>\n",
       "      <td>NaN</td>\n",
       "      <td>NaN</td>\n",
       "      <td>NaN</td>\n",
       "      <td>NaN</td>\n",
       "      <td>NaN</td>\n",
       "      <td>NaN</td>\n",
       "      <td>NaN</td>\n",
       "      <td>NaN</td>\n",
       "      <td>3.0</td>\n",
       "      <td>14.0</td>\n",
       "    </tr>\n",
       "    <tr>\n",
       "      <th>2</th>\n",
       "      <td>191.6</td>\n",
       "      <td>425.4</td>\n",
       "      <td>311.7</td>\n",
       "      <td>147.0</td>\n",
       "      <td>15.8</td>\n",
       "      <td>80.0</td>\n",
       "      <td>441.8</td>\n",
       "      <td>256.5</td>\n",
       "      <td>292.5</td>\n",
       "      <td>399.7</td>\n",
       "      <td>...</td>\n",
       "      <td>NaN</td>\n",
       "      <td>17.6</td>\n",
       "      <td>129.1</td>\n",
       "      <td>NaN</td>\n",
       "      <td>NaN</td>\n",
       "      <td>10.5</td>\n",
       "      <td>NaN</td>\n",
       "      <td>8.5</td>\n",
       "      <td>1.0</td>\n",
       "      <td>20.0</td>\n",
       "    </tr>\n",
       "    <tr>\n",
       "      <th>3</th>\n",
       "      <td>43.1</td>\n",
       "      <td>62.2</td>\n",
       "      <td>451.9</td>\n",
       "      <td>646.9</td>\n",
       "      <td>67.6</td>\n",
       "      <td>393.3</td>\n",
       "      <td>96.0</td>\n",
       "      <td>419.9</td>\n",
       "      <td>NaN</td>\n",
       "      <td>399.7</td>\n",
       "      <td>...</td>\n",
       "      <td>410.1</td>\n",
       "      <td>NaN</td>\n",
       "      <td>129.1</td>\n",
       "      <td>NaN</td>\n",
       "      <td>NaN</td>\n",
       "      <td>NaN</td>\n",
       "      <td>NaN</td>\n",
       "      <td>NaN</td>\n",
       "      <td>1.0</td>\n",
       "      <td>17.0</td>\n",
       "    </tr>\n",
       "    <tr>\n",
       "      <th>5</th>\n",
       "      <td>123.4</td>\n",
       "      <td>299.8</td>\n",
       "      <td>71.3</td>\n",
       "      <td>NaN</td>\n",
       "      <td>15.8</td>\n",
       "      <td>NaN</td>\n",
       "      <td>NaN</td>\n",
       "      <td>256.5</td>\n",
       "      <td>NaN</td>\n",
       "      <td>NaN</td>\n",
       "      <td>...</td>\n",
       "      <td>NaN</td>\n",
       "      <td>NaN</td>\n",
       "      <td>NaN</td>\n",
       "      <td>NaN</td>\n",
       "      <td>NaN</td>\n",
       "      <td>NaN</td>\n",
       "      <td>NaN</td>\n",
       "      <td>NaN</td>\n",
       "      <td>3.0</td>\n",
       "      <td>10.0</td>\n",
       "    </tr>\n",
       "    <tr>\n",
       "      <th>...</th>\n",
       "      <td>...</td>\n",
       "      <td>...</td>\n",
       "      <td>...</td>\n",
       "      <td>...</td>\n",
       "      <td>...</td>\n",
       "      <td>...</td>\n",
       "      <td>...</td>\n",
       "      <td>...</td>\n",
       "      <td>...</td>\n",
       "      <td>...</td>\n",
       "      <td>...</td>\n",
       "      <td>...</td>\n",
       "      <td>...</td>\n",
       "      <td>...</td>\n",
       "      <td>...</td>\n",
       "      <td>...</td>\n",
       "      <td>...</td>\n",
       "      <td>...</td>\n",
       "      <td>...</td>\n",
       "      <td>...</td>\n",
       "      <td>...</td>\n",
       "    </tr>\n",
       "    <tr>\n",
       "      <th>202</th>\n",
       "      <td>191.6</td>\n",
       "      <td>425.4</td>\n",
       "      <td>71.3</td>\n",
       "      <td>147.0</td>\n",
       "      <td>15.8</td>\n",
       "      <td>393.3</td>\n",
       "      <td>455.5</td>\n",
       "      <td>419.9</td>\n",
       "      <td>292.5</td>\n",
       "      <td>84.5</td>\n",
       "      <td>...</td>\n",
       "      <td>NaN</td>\n",
       "      <td>NaN</td>\n",
       "      <td>NaN</td>\n",
       "      <td>NaN</td>\n",
       "      <td>NaN</td>\n",
       "      <td>NaN</td>\n",
       "      <td>NaN</td>\n",
       "      <td>NaN</td>\n",
       "      <td>1.0</td>\n",
       "      <td>16.0</td>\n",
       "    </tr>\n",
       "    <tr>\n",
       "      <th>203</th>\n",
       "      <td>43.1</td>\n",
       "      <td>425.4</td>\n",
       "      <td>311.7</td>\n",
       "      <td>646.9</td>\n",
       "      <td>15.8</td>\n",
       "      <td>80.0</td>\n",
       "      <td>96.0</td>\n",
       "      <td>419.9</td>\n",
       "      <td>NaN</td>\n",
       "      <td>399.7</td>\n",
       "      <td>...</td>\n",
       "      <td>68.5</td>\n",
       "      <td>78.8</td>\n",
       "      <td>129.1</td>\n",
       "      <td>249.2</td>\n",
       "      <td>42.2</td>\n",
       "      <td>48.6</td>\n",
       "      <td>66.9</td>\n",
       "      <td>60.0</td>\n",
       "      <td>2.0</td>\n",
       "      <td>20.0</td>\n",
       "    </tr>\n",
       "    <tr>\n",
       "      <th>204</th>\n",
       "      <td>123.4</td>\n",
       "      <td>299.8</td>\n",
       "      <td>311.7</td>\n",
       "      <td>332.3</td>\n",
       "      <td>15.8</td>\n",
       "      <td>80.0</td>\n",
       "      <td>NaN</td>\n",
       "      <td>419.9</td>\n",
       "      <td>NaN</td>\n",
       "      <td>84.5</td>\n",
       "      <td>...</td>\n",
       "      <td>68.5</td>\n",
       "      <td>78.8</td>\n",
       "      <td>129.1</td>\n",
       "      <td>49.4</td>\n",
       "      <td>42.2</td>\n",
       "      <td>48.6</td>\n",
       "      <td>NaN</td>\n",
       "      <td>8.5</td>\n",
       "      <td>3.0</td>\n",
       "      <td>20.0</td>\n",
       "    </tr>\n",
       "    <tr>\n",
       "      <th>205</th>\n",
       "      <td>43.1</td>\n",
       "      <td>425.4</td>\n",
       "      <td>71.3</td>\n",
       "      <td>34.0</td>\n",
       "      <td>281.2</td>\n",
       "      <td>393.3</td>\n",
       "      <td>96.0</td>\n",
       "      <td>419.9</td>\n",
       "      <td>NaN</td>\n",
       "      <td>602.1</td>\n",
       "      <td>...</td>\n",
       "      <td>68.5</td>\n",
       "      <td>78.8</td>\n",
       "      <td>129.1</td>\n",
       "      <td>249.2</td>\n",
       "      <td>42.2</td>\n",
       "      <td>197.5</td>\n",
       "      <td>20.1</td>\n",
       "      <td>8.5</td>\n",
       "      <td>2.0</td>\n",
       "      <td>20.0</td>\n",
       "    </tr>\n",
       "    <tr>\n",
       "      <th>206</th>\n",
       "      <td>43.1</td>\n",
       "      <td>62.2</td>\n",
       "      <td>71.3</td>\n",
       "      <td>147.0</td>\n",
       "      <td>96.7</td>\n",
       "      <td>80.0</td>\n",
       "      <td>441.8</td>\n",
       "      <td>NaN</td>\n",
       "      <td>292.5</td>\n",
       "      <td>84.5</td>\n",
       "      <td>...</td>\n",
       "      <td>NaN</td>\n",
       "      <td>78.8</td>\n",
       "      <td>129.1</td>\n",
       "      <td>49.4</td>\n",
       "      <td>NaN</td>\n",
       "      <td>48.6</td>\n",
       "      <td>20.1</td>\n",
       "      <td>41.8</td>\n",
       "      <td>3.0</td>\n",
       "      <td>20.0</td>\n",
       "    </tr>\n",
       "  </tbody>\n",
       "</table>\n",
       "<p>192 rows × 22 columns</p>\n",
       "</div>"
      ],
      "text/plain": [
       "         0      1      2      3      4      5      6      7      8      9  \\\n",
       "0    123.4  299.8   71.3  147.0   96.7   80.0    NaN    NaN    NaN  399.7   \n",
       "1    191.6  299.8   71.3  147.0   96.7  455.8   96.0  419.9    NaN    NaN   \n",
       "2    191.6  425.4  311.7  147.0   15.8   80.0  441.8  256.5  292.5  399.7   \n",
       "3     43.1   62.2  451.9  646.9   67.6  393.3   96.0  419.9    NaN  399.7   \n",
       "5    123.4  299.8   71.3    NaN   15.8    NaN    NaN  256.5    NaN    NaN   \n",
       "..     ...    ...    ...    ...    ...    ...    ...    ...    ...    ...   \n",
       "202  191.6  425.4   71.3  147.0   15.8  393.3  455.5  419.9  292.5   84.5   \n",
       "203   43.1  425.4  311.7  646.9   15.8   80.0   96.0  419.9    NaN  399.7   \n",
       "204  123.4  299.8  311.7  332.3   15.8   80.0    NaN  419.9    NaN   84.5   \n",
       "205   43.1  425.4   71.3   34.0  281.2  393.3   96.0  419.9    NaN  602.1   \n",
       "206   43.1   62.2   71.3  147.0   96.7   80.0  441.8    NaN  292.5   84.5   \n",
       "\n",
       "     ...     12    13     14     15    16     17    18    19  version  job_idx  \n",
       "0    ...  355.4  78.8    NaN    NaN   NaN    NaN   NaN   NaN      1.0     16.0  \n",
       "1    ...    NaN   NaN    NaN    NaN   NaN    NaN   NaN   NaN      3.0     14.0  \n",
       "2    ...    NaN  17.6  129.1    NaN   NaN   10.5   NaN   8.5      1.0     20.0  \n",
       "3    ...  410.1   NaN  129.1    NaN   NaN    NaN   NaN   NaN      1.0     17.0  \n",
       "5    ...    NaN   NaN    NaN    NaN   NaN    NaN   NaN   NaN      3.0     10.0  \n",
       "..   ...    ...   ...    ...    ...   ...    ...   ...   ...      ...      ...  \n",
       "202  ...    NaN   NaN    NaN    NaN   NaN    NaN   NaN   NaN      1.0     16.0  \n",
       "203  ...   68.5  78.8  129.1  249.2  42.2   48.6  66.9  60.0      2.0     20.0  \n",
       "204  ...   68.5  78.8  129.1   49.4  42.2   48.6   NaN   8.5      3.0     20.0  \n",
       "205  ...   68.5  78.8  129.1  249.2  42.2  197.5  20.1   8.5      2.0     20.0  \n",
       "206  ...    NaN  78.8  129.1   49.4   NaN   48.6  20.1  41.8      3.0     20.0  \n",
       "\n",
       "[192 rows x 22 columns]"
      ]
     },
     "execution_count": 36,
     "metadata": {},
     "output_type": "execute_result"
    }
   ],
   "source": [
    "def parse_schedule(user):\n",
    "    job_assignments = {}\n",
    "    for timestep, decisions in json.loads(user.scheduling_decisions.replace(\"'\", \"\\\"\")).items():\n",
    "        for machine, job_prop in decisions.items():\n",
    "            if job_prop[1] == 1:\n",
    "                job_assignments[int(job_prop[0])] = machine\n",
    "    \n",
    "    job_energy = {i: np.nan for  i in range(len(jobs))}\n",
    "    for job_idx, machine in job_assignments.items():\n",
    "        job_energy[job_idx] = jobs[job_idx][\"resources\"][machine][\"energy\"]\n",
    "    job_energy[\"version\"] = user.version\n",
    "    job_energy[\"job_idx\"] = user.job_idx\n",
    "            \n",
    "    return pd.Series(job_energy)\n",
    "\n",
    "energy_per_job = df.apply(parse_schedule, axis=1)\n",
    "energy_per_job"
   ]
  },
  {
   "cell_type": "code",
   "execution_count": 37,
   "id": "6a00a234",
   "metadata": {},
   "outputs": [
    {
     "data": {
      "text/html": [
       "<div>\n",
       "<style scoped>\n",
       "    .dataframe tbody tr th:only-of-type {\n",
       "        vertical-align: middle;\n",
       "    }\n",
       "\n",
       "    .dataframe tbody tr th {\n",
       "        vertical-align: top;\n",
       "    }\n",
       "\n",
       "    .dataframe thead th {\n",
       "        text-align: right;\n",
       "    }\n",
       "</style>\n",
       "<table border=\"1\" class=\"dataframe\">\n",
       "  <thead>\n",
       "    <tr style=\"text-align: right;\">\n",
       "      <th></th>\n",
       "      <th>version</th>\n",
       "      <th>job_idx</th>\n",
       "      <th>job_id</th>\n",
       "      <th>energy</th>\n",
       "      <th>run</th>\n",
       "      <th>could_run</th>\n",
       "    </tr>\n",
       "  </thead>\n",
       "  <tbody>\n",
       "    <tr>\n",
       "      <th>0</th>\n",
       "      <td>1.0</td>\n",
       "      <td>16.0</td>\n",
       "      <td>0</td>\n",
       "      <td>123.4</td>\n",
       "      <td>True</td>\n",
       "      <td>True</td>\n",
       "    </tr>\n",
       "    <tr>\n",
       "      <th>1</th>\n",
       "      <td>3.0</td>\n",
       "      <td>14.0</td>\n",
       "      <td>0</td>\n",
       "      <td>191.6</td>\n",
       "      <td>True</td>\n",
       "      <td>True</td>\n",
       "    </tr>\n",
       "    <tr>\n",
       "      <th>2</th>\n",
       "      <td>1.0</td>\n",
       "      <td>20.0</td>\n",
       "      <td>0</td>\n",
       "      <td>191.6</td>\n",
       "      <td>True</td>\n",
       "      <td>True</td>\n",
       "    </tr>\n",
       "    <tr>\n",
       "      <th>3</th>\n",
       "      <td>1.0</td>\n",
       "      <td>17.0</td>\n",
       "      <td>0</td>\n",
       "      <td>43.1</td>\n",
       "      <td>True</td>\n",
       "      <td>True</td>\n",
       "    </tr>\n",
       "    <tr>\n",
       "      <th>4</th>\n",
       "      <td>3.0</td>\n",
       "      <td>10.0</td>\n",
       "      <td>0</td>\n",
       "      <td>123.4</td>\n",
       "      <td>True</td>\n",
       "      <td>True</td>\n",
       "    </tr>\n",
       "    <tr>\n",
       "      <th>...</th>\n",
       "      <td>...</td>\n",
       "      <td>...</td>\n",
       "      <td>...</td>\n",
       "      <td>...</td>\n",
       "      <td>...</td>\n",
       "      <td>...</td>\n",
       "    </tr>\n",
       "    <tr>\n",
       "      <th>3835</th>\n",
       "      <td>1.0</td>\n",
       "      <td>16.0</td>\n",
       "      <td>19</td>\n",
       "      <td>NaN</td>\n",
       "      <td>False</td>\n",
       "      <td>False</td>\n",
       "    </tr>\n",
       "    <tr>\n",
       "      <th>3836</th>\n",
       "      <td>2.0</td>\n",
       "      <td>20.0</td>\n",
       "      <td>19</td>\n",
       "      <td>60.0</td>\n",
       "      <td>True</td>\n",
       "      <td>True</td>\n",
       "    </tr>\n",
       "    <tr>\n",
       "      <th>3837</th>\n",
       "      <td>3.0</td>\n",
       "      <td>20.0</td>\n",
       "      <td>19</td>\n",
       "      <td>8.5</td>\n",
       "      <td>True</td>\n",
       "      <td>True</td>\n",
       "    </tr>\n",
       "    <tr>\n",
       "      <th>3838</th>\n",
       "      <td>2.0</td>\n",
       "      <td>20.0</td>\n",
       "      <td>19</td>\n",
       "      <td>8.5</td>\n",
       "      <td>True</td>\n",
       "      <td>True</td>\n",
       "    </tr>\n",
       "    <tr>\n",
       "      <th>3839</th>\n",
       "      <td>3.0</td>\n",
       "      <td>20.0</td>\n",
       "      <td>19</td>\n",
       "      <td>41.8</td>\n",
       "      <td>True</td>\n",
       "      <td>True</td>\n",
       "    </tr>\n",
       "  </tbody>\n",
       "</table>\n",
       "<p>3840 rows × 6 columns</p>\n",
       "</div>"
      ],
      "text/plain": [
       "      version  job_idx job_id  energy    run  could_run\n",
       "0         1.0     16.0      0   123.4   True       True\n",
       "1         3.0     14.0      0   191.6   True       True\n",
       "2         1.0     20.0      0   191.6   True       True\n",
       "3         1.0     17.0      0    43.1   True       True\n",
       "4         3.0     10.0      0   123.4   True       True\n",
       "...       ...      ...    ...     ...    ...        ...\n",
       "3835      1.0     16.0     19     NaN  False      False\n",
       "3836      2.0     20.0     19    60.0   True       True\n",
       "3837      3.0     20.0     19     8.5   True       True\n",
       "3838      2.0     20.0     19     8.5   True       True\n",
       "3839      3.0     20.0     19    41.8   True       True\n",
       "\n",
       "[3840 rows x 6 columns]"
      ]
     },
     "execution_count": 37,
     "metadata": {},
     "output_type": "execute_result"
    }
   ],
   "source": [
    "melted = pd.melt(energy_per_job, id_vars=[\"version\", \"job_idx\"], var_name=\"job_id\", value_name=\"energy\")\n",
    "melted[\"run\"] = ~melted[\"energy\"].isna()\n",
    "melted[\"could_run\"] = melted[\"job_id\"] <= melted[\"job_idx\"]\n",
    "melted"
   ]
  },
  {
   "cell_type": "code",
   "execution_count": 38,
   "id": "27c38f7e",
   "metadata": {},
   "outputs": [
    {
     "data": {
      "text/plain": [
       "Text(0, 0.5, 'Proportion Ran Job')"
      ]
     },
     "execution_count": 38,
     "metadata": {},
     "output_type": "execute_result"
    },
    {
     "data": {
      "image/png": "[encoded data removed]",
      "text/plain": [
       "<Figure size 330.704x172.762 with 1 Axes>"
      ]
     },
     "metadata": {},
     "output_type": "display_data"
    }
   ],
   "source": [
    "grouped = melted[melted[\"could_run\"] == True].groupby([\"job_id\", \"version\"])[\"run\"].value_counts(normalize=True).unstack().reset_index()\n",
    "fig, ax = plt.subplots(1,1)\n",
    "sns.barplot(data=grouped, x=\"job_id\", y=True, hue=\"version\", ax=ax)\n",
    "ax.set_ylabel(\"Proportion Ran Job\")\n",
    "# sns.countplot(data=melted, x=\"job_id\", hue=\"version\")"
   ]
  },
  {
   "cell_type": "code",
   "execution_count": 39,
   "id": "906be0d4",
   "metadata": {},
   "outputs": [
    {
     "data": {
      "image/png": "[encoded data removed]",
      "text/plain": [
       "<Figure size 330.704x172.762 with 1 Axes>"
      ]
     },
     "metadata": {},
     "output_type": "display_data"
    }
   ],
   "source": [
    "grouped = melted[melted[\"could_run\"] == True].groupby([\"job_id\", \"version\"])[[\"run\", \"energy\"]].agg({\"run\": [\"sum\", len], \"energy\": \"mean\"}).reset_index()\n",
    "grouped.columns = [\"job_id\", \"version\", \"run\", \"could_run\", \"energy\"]\n",
    "grouped[\"prop_ran\"] = grouped[\"run\"] / grouped[\"could_run\"]\n",
    "grouped[\"energy\"] = grouped.groupby([\"job_id\"])[\"energy\"].transform(\"mean\")\n",
    "\n",
    "fig, ax = plt.subplots(1,1)\n",
    "sns.regplot(data=grouped[grouped[\"version\"] == 1], x=\"energy\", y=\"prop_ran\", color=colors[0], label=\"Version 1\", robust=True, ax=ax)\n",
    "sns.regplot(data=grouped[grouped[\"version\"] == 2], x=\"energy\", y=\"prop_ran\", color=colors[1], label=\"Version 2\", robust=True, ax=ax)\n",
    "sns.regplot(data=grouped[grouped[\"version\"] == 3], x=\"energy\", y=\"prop_ran\", color=colors[2], label=\"Version 3\", robust=True, ax=ax)\n",
    "# sns.scatterplot(grouped, x=\"energy\", y=\"prop_ran\", hue=\"version\", ax=ax)\n",
    "# ax.get_legend().remove()\n",
    "plt.legend(loc=\"lower right\")\n",
    "ax.set_ylabel(\"Probability\")\n",
    "ax.set_xlabel(\"Mean Energy Consumed\")\n",
    "plt.savefig(\"figures/game_job_probability_by_energy.pdf\")\n",
    "# plt.savefig(\"figures/game_job_probability_by_energy_talk.png\")"
   ]
  },
  {
   "cell_type": "code",
   "execution_count": null,
   "id": "1adf5689",
   "metadata": {},
   "outputs": [],
   "source": []
  },
  {
   "cell_type": "code",
   "execution_count": 40,
   "id": "c03edcd9",
   "metadata": {},
   "outputs": [
    {
     "name": "stderr",
     "output_type": "stream",
     "text": [
      "/tmp/ipykernel_646/2123423521.py:5: UserWarning: The palette list has more values (5) than needed (3), which may not be intended.\n",
      "  sns.barplot(grouped, x=\"priority\", y=\"prop_ran\", hue=\"version\", hue_order=[1, 2, 3], palette=colors, errorbar=None)\n"
     ]
    },
    {
     "data": {
      "text/plain": [
       "<matplotlib.legend.Legend at 0x7f96917c9e40>"
      ]
     },
     "execution_count": 40,
     "metadata": {},
     "output_type": "execute_result"
    },
    {
     "data": {
      "image/png": "[encoded data removed]",
      "text/plain": [
       "<Figure size 330.704x172.762 with 1 Axes>"
      ]
     },
     "metadata": {},
     "output_type": "display_data"
    }
   ],
   "source": [
    "priority_map = {\"low\": 1, \"medium\": 2, \"high\": 3, \"very high\": 4}\n",
    "grouped[\"priority\"] = grouped[\"job_id\"].map({i: priority_map[job[\"importance\"]] for i, job in enumerate(jobs)})\n",
    "\n",
    "fig, ax = plt.subplots(1,1)\n",
    "sns.barplot(grouped, x=\"priority\", y=\"prop_ran\", hue=\"version\", hue_order=[1, 2, 3], palette=colors, errorbar=None)\n",
    "# sns.regplot(data=grouped[grouped[\"version\"] == 1], x=\"priority\", y=\"prop_ran\", color=colors[0], label=\"Version 1\", robust=True, ax=ax)\n",
    "# sns.regplot(data=grouped[grouped[\"version\"] == 2], x=\"priority\", y=\"prop_ran\", color=colors[1], label=\"Version 2\", robust=True, ax=ax)\n",
    "# sns.regplot(data=grouped[grouped[\"version\"] == 3], x=\"priority\", y=\"prop_ran\", color=colors[2], label=\"Version 3\", robust=True, ax=ax)\n",
    "# # sns.scatterplot(grouped, x=\"energy\", y=\"prop_ran\", hue=\"version\", ax=ax)\n",
    "# # ax.get_legend().remove()\n",
    "plt.legend(loc=\"lower left\")\n",
    "# ax.set_ylabel(\"Probability\")\n",
    "# ax.set_xlabel(\"Job Priority\")\n",
    "# plt.savefig(\"figures/game_job_probability_by_energy.pdf\")\n",
    "# plt.savefig(\"figures/game_job_probability_by_energy_talk.png\")"
   ]
  },
  {
   "cell_type": "code",
   "execution_count": 45,
   "id": "44d1eb4a",
   "metadata": {},
   "outputs": [
    {
     "name": "stderr",
     "output_type": "stream",
     "text": [
      "/tmp/ipykernel_646/702893150.py:3: UserWarning: The palette list has more values (5) than needed (3), which may not be intended.\n",
      "  fig = sns.barplot(melted, x=\"job_id\", y=\"energy\", hue=\"version_\", hue_order=[\"Version 1\", \"Version 2\", \"Version 3\"], palette=colors, errorbar=None)\n"
     ]
    },
    {
     "data": {
      "image/png": "[encoded data removed]",
      "text/plain": [
       "<Figure size 330.704x172.762 with 1 Axes>"
      ]
     },
     "metadata": {},
     "output_type": "display_data"
    }
   ],
   "source": [
    "fig, ax = plt.subplots(1,1)\n",
    "melted[\"version_\"]  = melted[\"version\"].map({1: \"Version 1\", 2: \"Version 2\", 3: \"Version 3\"})\n",
    "fig = sns.barplot(melted, x=\"job_id\", y=\"energy\", hue=\"version_\", hue_order=[\"Version 1\", \"Version 2\", \"Version 3\"], palette=colors, errorbar=None)\n",
    "ax.get_legend().set_title(None)\n",
    "ax.set_xticklabels([])\n",
    "ax.set_xlabel(\"Job (in Arrival Order)\")\n",
    "ax.set_ylabel(\"Mean Energy\")\n",
    "plt.savefig(\"figures/game_energy_by_job.pdf\")\n",
    "plt.savefig(\"figures/game_energy_by_job_talk.png\")"
   ]
  },
  {
   "cell_type": "markdown",
   "id": "6de7b29f",
   "metadata": {},
   "source": [
    "# "
   ]
  }
 ],
 "metadata": {
  "kernelspec": {
   "display_name": "Python 3 (ipykernel)",
   "language": "python",
   "name": "python3"
  },
  "language_info": {
   "codemirror_mode": {
    "name": "ipython",
    "version": 3
   },
   "file_extension": ".py",
   "mimetype": "text/x-python",
   "name": "python",
   "nbconvert_exporter": "python",
   "pygments_lexer": "ipython3",
   "version": "3.10.9"
  }
 },
 "nbformat": 4,
 "nbformat_minor": 5
}
